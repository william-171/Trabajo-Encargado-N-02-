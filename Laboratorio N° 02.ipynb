{
    "metadata": {
        "kernelspec": {
            "name": "SQL",
            "display_name": "SQL",
            "language": "sql"
        },
        "language_info": {
            "name": "sql",
            "version": ""
        }
    },
    "nbformat_minor": 2,
    "nbformat": 4,
    "cells": [
        {
            "cell_type": "markdown",
            "source": "<h1>Laboratorio N° 02 - Utilizando Operadores de Conjuntos de Datos",
            "metadata": {}
        },
        {
            "cell_type": "markdown",
            "source": "<h2>Ejercicio 1: Operador UNION",
            "metadata": {}
        },
        {
            "cell_type": "markdown",
            "source": "1.1. Conectar con la BD TSQL",
            "metadata": {}
        },
        {
            "cell_type": "code",
            "source": "USE TSQL;\r\nGO",
            "metadata": {},
            "outputs": [
                {
                    "output_type": "display_data",
                    "data": {
                        "text/html": "Commands completed successfully."
                    },
                    "metadata": {}
                },
                {
                    "output_type": "display_data",
                    "data": {
                        "text/html": "Total execution time: 00:00:00"
                    },
                    "metadata": {}
                }
            ],
            "execution_count": 1
        },
        {
            "cell_type": "markdown",
            "source": "1.2. Write a SELECT statement to return the productid and productname columns from the Production.Products table. Filter the results to include only products that have a categoryid value 4",
            "metadata": {}
        },
        {
            "cell_type": "code",
            "source": "select \r\nproductid,productname\r\nfrom Production.Products\r\nwhere categoryid =4;",
            "metadata": {},
            "outputs": [
                {
                    "output_type": "display_data",
                    "data": {
                        "text/html": "(10 rows affected)"
                    },
                    "metadata": {}
                },
                {
                    "output_type": "display_data",
                    "data": {
                        "text/html": "Total execution time: 00:00:00.003"
                    },
                    "metadata": {}
                },
                {
                    "output_type": "execute_result",
                    "metadata": {},
                    "execution_count": 4,
                    "data": {
                        "application/vnd.dataresource+json": {
                            "schema": {
                                "fields": [
                                    {
                                        "name": "productid"
                                    },
                                    {
                                        "name": "productname"
                                    }
                                ]
                            },
                            "data": [
                                {
                                    "0": "11",
                                    "1": "Product QMVUN"
                                },
                                {
                                    "0": "12",
                                    "1": "Product OSFNS"
                                },
                                {
                                    "0": "31",
                                    "1": "Product XWOXC"
                                },
                                {
                                    "0": "32",
                                    "1": "Product NUNAW"
                                },
                                {
                                    "0": "33",
                                    "1": "Product ASTMN"
                                },
                                {
                                    "0": "59",
                                    "1": "Product UKXRI"
                                },
                                {
                                    "0": "60",
                                    "1": "Product WHBYK"
                                },
                                {
                                    "0": "69",
                                    "1": "Product COAXA"
                                },
                                {
                                    "0": "71",
                                    "1": "Product MYMOI"
                                },
                                {
                                    "0": "72",
                                    "1": "Product GEEOO"
                                }
                            ]
                        },
                        "text/html": "<table><tr><th>productid</th><th>productname</th></tr><tr><td>11</td><td>Product QMVUN</td></tr><tr><td>12</td><td>Product OSFNS</td></tr><tr><td>31</td><td>Product XWOXC</td></tr><tr><td>32</td><td>Product NUNAW</td></tr><tr><td>33</td><td>Product ASTMN</td></tr><tr><td>59</td><td>Product UKXRI</td></tr><tr><td>60</td><td>Product WHBYK</td></tr><tr><td>69</td><td>Product COAXA</td></tr><tr><td>71</td><td>Product MYMOI</td></tr><tr><td>72</td><td>Product GEEOO</td></tr></table>"
                    }
                }
            ],
            "execution_count": 4
        },
        {
            "cell_type": "markdown",
            "source": "1.3. Write a SELECT statement to return the productid and productname columns from the Production.Products table. Filter the results to include only products that have a total sales amount of more than $50,000. For the total sales amount, you will need to query the Sales.OrderDetails table and aggregate all order line values (qty * unitprice) for each product",
            "metadata": {}
        },
        {
            "cell_type": "code",
            "source": "select \r\nd.productid,p.productname\r\nfrom sales.OrderDetails d \r\nINNER JOIN Production.Products p ON p.productid = d.productid\r\ngroup by d.productid,p.productname\r\nHAVING SUM(d.qty * d.unitprice)>50000;",
            "metadata": {},
            "outputs": [
                {
                    "output_type": "display_data",
                    "data": {
                        "text/html": "(4 rows affected)"
                    },
                    "metadata": {}
                },
                {
                    "output_type": "display_data",
                    "data": {
                        "text/html": "Total execution time: 00:00:00.015"
                    },
                    "metadata": {}
                },
                {
                    "output_type": "execute_result",
                    "metadata": {},
                    "execution_count": 5,
                    "data": {
                        "application/vnd.dataresource+json": {
                            "schema": {
                                "fields": [
                                    {
                                        "name": "productid"
                                    },
                                    {
                                        "name": "productname"
                                    }
                                ]
                            },
                            "data": [
                                {
                                    "0": "29",
                                    "1": "Product VJXYN"
                                },
                                {
                                    "0": "38",
                                    "1": "Product QDOMO"
                                },
                                {
                                    "0": "59",
                                    "1": "Product UKXRI"
                                },
                                {
                                    "0": "60",
                                    "1": "Product WHBYK"
                                }
                            ]
                        },
                        "text/html": "<table><tr><th>productid</th><th>productname</th></tr><tr><td>29</td><td>Product VJXYN</td></tr><tr><td>38</td><td>Product QDOMO</td></tr><tr><td>59</td><td>Product UKXRI</td></tr><tr><td>60</td><td>Product WHBYK</td></tr></table>"
                    }
                }
            ],
            "execution_count": 5
        },
        {
            "cell_type": "markdown",
            "source": "1.3. Write a SELECT statement to retrieve the custid and contactname columns from the Sales.Customers table. Display the top 10 customers by sales amount for January 2008 and display the top 10 customers by sales amount for February 2008. (Hint: write two SELECT statements, each  joining Sales.Customers and Sales.OrderValues, and use the appropriate set operator.)",
            "metadata": {}
        },
        {
            "cell_type": "code",
            "source": "SELECT\r\nc1.custid, c1.contactname\r\nFROM\r\n(\r\nselect top (10)\r\no.custid,c.contactname\r\nfrom sales.OrderValues as o \r\nINNER join sales.Customers as c on c.custid= o.custid\r\nwhere o.orderdate>='20080101' and o.orderdate < '20080201'\r\nGROUP BY o.custid,c.contactname\r\norder BY sum(o.val)DESC\r\n)as c1\r\nUNION\r\n\r\nselect c2.custid,c2.contactname\r\nfrom\r\n(\r\nselect top(10)\r\no.custid,c.contactname\r\nfrom Sales.OrderValues as o \r\nINNER join Sales.Customers as c ON c.custid=o.custid\r\nwhere o.orderdate>='20080201' and o.orderdate < '20080301'\r\nGROUP BY o.custid,c.contactname\r\norder BY sum(o.val)DESC\r\n\r\n)as c2;\r\n",
            "metadata": {},
            "outputs": [
                {
                    "output_type": "display_data",
                    "data": {
                        "text/html": "(15 rows affected)"
                    },
                    "metadata": {}
                },
                {
                    "output_type": "display_data",
                    "data": {
                        "text/html": "Total execution time: 00:00:00.021"
                    },
                    "metadata": {}
                },
                {
                    "output_type": "execute_result",
                    "metadata": {},
                    "execution_count": 6,
                    "data": {
                        "application/vnd.dataresource+json": {
                            "schema": {
                                "fields": [
                                    {
                                        "name": "custid"
                                    },
                                    {
                                        "name": "contactname"
                                    }
                                ]
                            },
                            "data": [
                                {
                                    "0": "9",
                                    "1": "Raghav, Amritansh"
                                },
                                {
                                    "0": "20",
                                    "1": "Kane, John"
                                },
                                {
                                    "0": "30",
                                    "1": "Shabalin, Rostislav"
                                },
                                {
                                    "0": "32",
                                    "1": "Krishnan, Venky"
                                },
                                {
                                    "0": "34",
                                    "1": "Cohen, Shy"
                                },
                                {
                                    "0": "37",
                                    "1": "Crăciun, Ovidiu V."
                                },
                                {
                                    "0": "39",
                                    "1": "Song, Lolan"
                                },
                                {
                                    "0": "55",
                                    "1": "Egelund-Muller, Anja"
                                },
                                {
                                    "0": "62",
                                    "1": "Misiec, Anna"
                                },
                                {
                                    "0": "63",
                                    "1": "Veronesi, Giorgio"
                                },
                                {
                                    "0": "65",
                                    "1": "Moore, Michael"
                                },
                                {
                                    "0": "71",
                                    "1": "Navarro, Tomás"
                                },
                                {
                                    "0": "76",
                                    "1": "Gulbis, Katrin"
                                },
                                {
                                    "0": "81",
                                    "1": "Nagel, Jean-Philippe"
                                },
                                {
                                    "0": "89",
                                    "1": "Smith Jr., Ronaldo"
                                }
                            ]
                        },
                        "text/html": "<table><tr><th>custid</th><th>contactname</th></tr><tr><td>9</td><td>Raghav, Amritansh</td></tr><tr><td>20</td><td>Kane, John</td></tr><tr><td>30</td><td>Shabalin, Rostislav</td></tr><tr><td>32</td><td>Krishnan, Venky</td></tr><tr><td>34</td><td>Cohen, Shy</td></tr><tr><td>37</td><td>Crăciun, Ovidiu V.</td></tr><tr><td>39</td><td>Song, Lolan</td></tr><tr><td>55</td><td>Egelund-Muller, Anja</td></tr><tr><td>62</td><td>Misiec, Anna</td></tr><tr><td>63</td><td>Veronesi, Giorgio</td></tr><tr><td>65</td><td>Moore, Michael</td></tr><tr><td>71</td><td>Navarro, Tomás</td></tr><tr><td>76</td><td>Gulbis, Katrin</td></tr><tr><td>81</td><td>Nagel, Jean-Philippe</td></tr><tr><td>89</td><td>Smith Jr., Ronaldo</td></tr></table>"
                    }
                }
            ],
            "execution_count": 6
        },
        {
            "cell_type": "markdown",
            "source": "<h2>Ejercicio 2: Operador EXCEPT y INTERSECT",
            "metadata": {}
        },
        {
            "cell_type": "markdown",
            "source": "2.1. Write a SELECT statement to retrieve the custid column from the Sales.Orders table. Filter the results to include only customers who bought more than 20 different products (based on the productid column from the Sales.OrderDetails table)",
            "metadata": {}
        },
        {
            "cell_type": "code",
            "source": "select \r\no.custid\r\nfrom sales.Orders as o \r\nINNER JOIN  Sales.OrderDetails  as d ON d.orderid = o.orderid\r\nGROUP BY o.custid\r\nHAVING COUNT(DISTINCT d.productid)>20;",
            "metadata": {},
            "outputs": [
                {
                    "output_type": "display_data",
                    "data": {
                        "text/html": "(33 rows affected)"
                    },
                    "metadata": {}
                },
                {
                    "output_type": "display_data",
                    "data": {
                        "text/html": "Total execution time: 00:00:00.006"
                    },
                    "metadata": {}
                },
                {
                    "output_type": "execute_result",
                    "metadata": {},
                    "execution_count": 8,
                    "data": {
                        "application/vnd.dataresource+json": {
                            "schema": {
                                "fields": [
                                    {
                                        "name": "custid"
                                    }
                                ]
                            },
                            "data": [
                                {
                                    "0": "4"
                                },
                                {
                                    "0": "5"
                                },
                                {
                                    "0": "7"
                                },
                                {
                                    "0": "9"
                                },
                                {
                                    "0": "10"
                                },
                                {
                                    "0": "20"
                                },
                                {
                                    "0": "24"
                                },
                                {
                                    "0": "25"
                                },
                                {
                                    "0": "30"
                                },
                                {
                                    "0": "34"
                                },
                                {
                                    "0": "35"
                                },
                                {
                                    "0": "37"
                                },
                                {
                                    "0": "39"
                                },
                                {
                                    "0": "41"
                                },
                                {
                                    "0": "44"
                                },
                                {
                                    "0": "46"
                                },
                                {
                                    "0": "47"
                                },
                                {
                                    "0": "51"
                                },
                                {
                                    "0": "56"
                                },
                                {
                                    "0": "62"
                                },
                                {
                                    "0": "63"
                                },
                                {
                                    "0": "65"
                                },
                                {
                                    "0": "67"
                                },
                                {
                                    "0": "68"
                                },
                                {
                                    "0": "71"
                                },
                                {
                                    "0": "72"
                                },
                                {
                                    "0": "76"
                                },
                                {
                                    "0": "80"
                                },
                                {
                                    "0": "83"
                                },
                                {
                                    "0": "84"
                                },
                                {
                                    "0": "86"
                                },
                                {
                                    "0": "87"
                                },
                                {
                                    "0": "89"
                                }
                            ]
                        },
                        "text/html": "<table><tr><th>custid</th></tr><tr><td>4</td></tr><tr><td>5</td></tr><tr><td>7</td></tr><tr><td>9</td></tr><tr><td>10</td></tr><tr><td>20</td></tr><tr><td>24</td></tr><tr><td>25</td></tr><tr><td>30</td></tr><tr><td>34</td></tr><tr><td>35</td></tr><tr><td>37</td></tr><tr><td>39</td></tr><tr><td>41</td></tr><tr><td>44</td></tr><tr><td>46</td></tr><tr><td>47</td></tr><tr><td>51</td></tr><tr><td>56</td></tr><tr><td>62</td></tr><tr><td>63</td></tr><tr><td>65</td></tr><tr><td>67</td></tr><tr><td>68</td></tr><tr><td>71</td></tr><tr><td>72</td></tr><tr><td>76</td></tr><tr><td>80</td></tr><tr><td>83</td></tr><tr><td>84</td></tr><tr><td>86</td></tr><tr><td>87</td></tr><tr><td>89</td></tr></table>"
                    }
                }
            ],
            "execution_count": 8
        },
        {
            "cell_type": "markdown",
            "source": "2.2. Write a SELECT statement to retrieve the custid column from the Sales.Orders table. Filter the results to include only customers from the country USA and exclude all customers from the previous (task 1) result. (Hint: use the EXCEPT operator and the previous query.)",
            "metadata": {}
        },
        {
            "cell_type": "code",
            "source": "SELECT\r\ncustid \r\nfrom sales.Customers\r\nwhere country ='USA'\r\n\r\nEXCEPT\r\n\r\nselect \r\no.custid\r\nfrom Sales.Orders as o \r\nINNER JOIN sales.OrderDetails as d on d.orderid =o.orderid\r\nGROUP BY o.custid\r\nHAVING COUNT(DISTINCT d.productid)>20;",
            "metadata": {},
            "outputs": [
                {
                    "output_type": "display_data",
                    "data": {
                        "text/html": "(10 rows affected)"
                    },
                    "metadata": {}
                },
                {
                    "output_type": "display_data",
                    "data": {
                        "text/html": "Total execution time: 00:00:00.012"
                    },
                    "metadata": {}
                },
                {
                    "output_type": "execute_result",
                    "metadata": {},
                    "execution_count": 7,
                    "data": {
                        "application/vnd.dataresource+json": {
                            "schema": {
                                "fields": [
                                    {
                                        "name": "custid"
                                    }
                                ]
                            },
                            "data": [
                                {
                                    "0": "32"
                                },
                                {
                                    "0": "36"
                                },
                                {
                                    "0": "43"
                                },
                                {
                                    "0": "45"
                                },
                                {
                                    "0": "48"
                                },
                                {
                                    "0": "55"
                                },
                                {
                                    "0": "75"
                                },
                                {
                                    "0": "77"
                                },
                                {
                                    "0": "78"
                                },
                                {
                                    "0": "82"
                                }
                            ]
                        },
                        "text/html": "<table><tr><th>custid</th></tr><tr><td>32</td></tr><tr><td>36</td></tr><tr><td>43</td></tr><tr><td>45</td></tr><tr><td>48</td></tr><tr><td>55</td></tr><tr><td>75</td></tr><tr><td>77</td></tr><tr><td>78</td></tr><tr><td>82</td></tr></table>"
                    }
                }
            ],
            "execution_count": 7
        },
        {
            "cell_type": "markdown",
            "source": "2.3. Write a SELECT statement to retrieve the custid column from the Sales.Orders table. Filter only customers who have a total sales value greater than $10,000. Calculate the sales value using the qty and unitprice columns from the Sales.OrderDetails table",
            "metadata": {}
        },
        {
            "cell_type": "code",
            "source": "select \r\no.custid\r\nfrom sales.Orders as o \r\nINNER JOIN  Sales.OrderDetails  as d ON d.orderid = o.orderid\r\nGROUP BY o.custid\r\nHAVING SUM(d.qty * d.unitprice)>10000;",
            "metadata": {},
            "outputs": [
                {
                    "output_type": "display_data",
                    "data": {
                        "text/html": "(41 rows affected)"
                    },
                    "metadata": {}
                },
                {
                    "output_type": "display_data",
                    "data": {
                        "text/html": "Total execution time: 00:00:00.007"
                    },
                    "metadata": {}
                },
                {
                    "output_type": "execute_result",
                    "metadata": {},
                    "execution_count": 10,
                    "data": {
                        "application/vnd.dataresource+json": {
                            "schema": {
                                "fields": [
                                    {
                                        "name": "custid"
                                    }
                                ]
                            },
                            "data": [
                                {
                                    "0": "23"
                                },
                                {
                                    "0": "46"
                                },
                                {
                                    "0": "75"
                                },
                                {
                                    "0": "9"
                                },
                                {
                                    "0": "89"
                                },
                                {
                                    "0": "72"
                                },
                                {
                                    "0": "32"
                                },
                                {
                                    "0": "35"
                                },
                                {
                                    "0": "86"
                                },
                                {
                                    "0": "63"
                                },
                                {
                                    "0": "55"
                                },
                                {
                                    "0": "67"
                                },
                                {
                                    "0": "87"
                                },
                                {
                                    "0": "7"
                                },
                                {
                                    "0": "44"
                                },
                                {
                                    "0": "50"
                                },
                                {
                                    "0": "24"
                                },
                                {
                                    "0": "47"
                                },
                                {
                                    "0": "30"
                                },
                                {
                                    "0": "10"
                                },
                                {
                                    "0": "41"
                                },
                                {
                                    "0": "4"
                                },
                                {
                                    "0": "65"
                                },
                                {
                                    "0": "19"
                                },
                                {
                                    "0": "73"
                                },
                                {
                                    "0": "25"
                                },
                                {
                                    "0": "62"
                                },
                                {
                                    "0": "5"
                                },
                                {
                                    "0": "56"
                                },
                                {
                                    "0": "76"
                                },
                                {
                                    "0": "59"
                                },
                                {
                                    "0": "39"
                                },
                                {
                                    "0": "71"
                                },
                                {
                                    "0": "83"
                                },
                                {
                                    "0": "34"
                                },
                                {
                                    "0": "20"
                                },
                                {
                                    "0": "68"
                                },
                                {
                                    "0": "80"
                                },
                                {
                                    "0": "14"
                                },
                                {
                                    "0": "37"
                                },
                                {
                                    "0": "51"
                                }
                            ]
                        },
                        "text/html": "<table><tr><th>custid</th></tr><tr><td>23</td></tr><tr><td>46</td></tr><tr><td>75</td></tr><tr><td>9</td></tr><tr><td>89</td></tr><tr><td>72</td></tr><tr><td>32</td></tr><tr><td>35</td></tr><tr><td>86</td></tr><tr><td>63</td></tr><tr><td>55</td></tr><tr><td>67</td></tr><tr><td>87</td></tr><tr><td>7</td></tr><tr><td>44</td></tr><tr><td>50</td></tr><tr><td>24</td></tr><tr><td>47</td></tr><tr><td>30</td></tr><tr><td>10</td></tr><tr><td>41</td></tr><tr><td>4</td></tr><tr><td>65</td></tr><tr><td>19</td></tr><tr><td>73</td></tr><tr><td>25</td></tr><tr><td>62</td></tr><tr><td>5</td></tr><tr><td>56</td></tr><tr><td>76</td></tr><tr><td>59</td></tr><tr><td>39</td></tr><tr><td>71</td></tr><tr><td>83</td></tr><tr><td>34</td></tr><tr><td>20</td></tr><tr><td>68</td></tr><tr><td>80</td></tr><tr><td>14</td></tr><tr><td>37</td></tr><tr><td>51</td></tr></table>"
                    }
                }
            ],
            "execution_count": 10
        },
        {
            "cell_type": "markdown",
            "source": "<h2>Ejercicio 3: Utilizando el Operador APPLY",
            "metadata": {}
        },
        {
            "cell_type": "markdown",
            "source": "3.1. Write a SELECT statement to retrieve the productid and productname columns from the Production.Products table. In addition, for each product, retrieve the last two rows from the Sales.OrderDetails table based on orderid number.",
            "metadata": {}
        },
        {
            "cell_type": "code",
            "source": "select top(2)\r\nd.orderid\r\nfrom sales.OrderDetails as d \r\nwhere d.productid =1\r\nORDER by d.orderid desc ",
            "metadata": {},
            "outputs": [
                {
                    "output_type": "display_data",
                    "data": {
                        "text/html": "(2 rows affected)"
                    },
                    "metadata": {}
                },
                {
                    "output_type": "display_data",
                    "data": {
                        "text/html": "Total execution time: 00:00:00.002"
                    },
                    "metadata": {}
                },
                {
                    "output_type": "execute_result",
                    "metadata": {},
                    "execution_count": 16,
                    "data": {
                        "application/vnd.dataresource+json": {
                            "schema": {
                                "fields": [
                                    {
                                        "name": "orderid"
                                    }
                                ]
                            },
                            "data": [
                                {
                                    "0": "11070"
                                },
                                {
                                    "0": "11047"
                                }
                            ]
                        },
                        "text/html": "<table><tr><th>orderid</th></tr><tr><td>11070</td></tr><tr><td>11047</td></tr></table>"
                    }
                }
            ],
            "execution_count": 16
        },
        {
            "cell_type": "markdown",
            "source": "3.2. Use the CROSS APPLY operator and a correlated subquery. Order the result by the column productid",
            "metadata": {}
        },
        {
            "cell_type": "code",
            "source": "select p.productid,p.productname,o.orderid\r\nfrom  Production.Products as p \r\ncross APPLY\r\n(\r\n    select top(2)\r\nd.orderid\r\nfrom sales.OrderDetails as d \r\nwhere d.productid =p.productid\r\nORDER by d.orderid desc \r\n)o\r\nORDER by p.productid",
            "metadata": {},
            "outputs": [
                {
                    "output_type": "display_data",
                    "data": {
                        "text/html": "(154 rows affected)"
                    },
                    "metadata": {}
                },
                {
                    "output_type": "display_data",
                    "data": {
                        "text/html": "Total execution time: 00:00:00.006"
                    },
                    "metadata": {}
                },
                {
                    "output_type": "execute_result",
                    "metadata": {},
                    "execution_count": 13,
                    "data": {
                        "application/vnd.dataresource+json": {
                            "schema": {
                                "fields": [
                                    {
                                        "name": "productid"
                                    },
                                    {
                                        "name": "productname"
                                    },
                                    {
                                        "name": "orderid"
                                    }
                                ]
                            },
                            "data": [
                                {
                                    "0": "1",
                                    "1": "Product HHYDP",
                                    "2": "11070"
                                },
                                {
                                    "0": "1",
                                    "1": "Product HHYDP",
                                    "2": "11047"
                                },
                                {
                                    "0": "2",
                                    "1": "Product RECZE",
                                    "2": "11077"
                                },
                                {
                                    "0": "2",
                                    "1": "Product RECZE",
                                    "2": "11075"
                                },
                                {
                                    "0": "3",
                                    "1": "Product IMEHJ",
                                    "2": "11077"
                                },
                                {
                                    "0": "3",
                                    "1": "Product IMEHJ",
                                    "2": "11017"
                                },
                                {
                                    "0": "4",
                                    "1": "Product KSBRM",
                                    "2": "11077"
                                },
                                {
                                    "0": "4",
                                    "1": "Product KSBRM",
                                    "2": "11000"
                                },
                                {
                                    "0": "5",
                                    "1": "Product EPEIM",
                                    "2": "11047"
                                },
                                {
                                    "0": "5",
                                    "1": "Product EPEIM",
                                    "2": "11030"
                                },
                                {
                                    "0": "6",
                                    "1": "Product VAIIV",
                                    "2": "11077"
                                },
                                {
                                    "0": "6",
                                    "1": "Product VAIIV",
                                    "2": "11076"
                                },
                                {
                                    "0": "7",
                                    "1": "Product HMLNI",
                                    "2": "11077"
                                },
                                {
                                    "0": "7",
                                    "1": "Product HMLNI",
                                    "2": "11071"
                                },
                                {
                                    "0": "8",
                                    "1": "Product WVJFP",
                                    "2": "11077"
                                },
                                {
                                    "0": "8",
                                    "1": "Product WVJFP",
                                    "2": "11007"
                                },
                                {
                                    "0": "9",
                                    "1": "Product AOZBW",
                                    "2": "10848"
                                },
                                {
                                    "0": "9",
                                    "1": "Product AOZBW",
                                    "2": "10693"
                                },
                                {
                                    "0": "10",
                                    "1": "Product YHXGE",
                                    "2": "11077"
                                },
                                {
                                    "0": "10",
                                    "1": "Product YHXGE",
                                    "2": "11020"
                                },
                                {
                                    "0": "11",
                                    "1": "Product QMVUN",
                                    "2": "11073"
                                },
                                {
                                    "0": "11",
                                    "1": "Product QMVUN",
                                    "2": "11043"
                                },
                                {
                                    "0": "12",
                                    "1": "Product OSFNS",
                                    "2": "11077"
                                },
                                {
                                    "0": "12",
                                    "1": "Product OSFNS",
                                    "2": "11049"
                                },
                                {
                                    "0": "13",
                                    "1": "Product POXFU",
                                    "2": "11077"
                                },
                                {
                                    "0": "13",
                                    "1": "Product POXFU",
                                    "2": "11071"
                                },
                                {
                                    "0": "14",
                                    "1": "Product PWCJB",
                                    "2": "11077"
                                },
                                {
                                    "0": "14",
                                    "1": "Product PWCJB",
                                    "2": "11076"
                                },
                                {
                                    "0": "15",
                                    "1": "Product KSZOI",
                                    "2": "10657"
                                },
                                {
                                    "0": "15",
                                    "1": "Product KSZOI",
                                    "2": "10592"
                                },
                                {
                                    "0": "16",
                                    "1": "Product PAFRH",
                                    "2": "11077"
                                },
                                {
                                    "0": "16",
                                    "1": "Product PAFRH",
                                    "2": "11074"
                                },
                                {
                                    "0": "17",
                                    "1": "Product BLCAX",
                                    "2": "11064"
                                },
                                {
                                    "0": "17",
                                    "1": "Product BLCAX",
                                    "2": "11059"
                                },
                                {
                                    "0": "18",
                                    "1": "Product CKEDC",
                                    "2": "11053"
                                },
                                {
                                    "0": "18",
                                    "1": "Product CKEDC",
                                    "2": "11026"
                                },
                                {
                                    "0": "19",
                                    "1": "Product XKXDO",
                                    "2": "11076"
                                },
                                {
                                    "0": "19",
                                    "1": "Product XKXDO",
                                    "2": "11066"
                                },
                                {
                                    "0": "20",
                                    "1": "Product QHFFP",
                                    "2": "11077"
                                },
                                {
                                    "0": "20",
                                    "1": "Product QHFFP",
                                    "2": "11021"
                                },
                                {
                                    "0": "21",
                                    "1": "Product VJZZH",
                                    "2": "11058"
                                },
                                {
                                    "0": "21",
                                    "1": "Product VJZZH",
                                    "2": "11040"
                                },
                                {
                                    "0": "22",
                                    "1": "Product CPHFY",
                                    "2": "11001"
                                },
                                {
                                    "0": "22",
                                    "1": "Product CPHFY",
                                    "2": "10943"
                                },
                                {
                                    "0": "23",
                                    "1": "Product JLUDZ",
                                    "2": "11077"
                                },
                                {
                                    "0": "23",
                                    "1": "Product JLUDZ",
                                    "2": "11013"
                                },
                                {
                                    "0": "24",
                                    "1": "Product QOGNU",
                                    "2": "11073"
                                },
                                {
                                    "0": "24",
                                    "1": "Product QOGNU",
                                    "2": "11055"
                                },
                                {
                                    "0": "25",
                                    "1": "Product LYLNI",
                                    "2": "11055"
                                },
                                {
                                    "0": "25",
                                    "1": "Product LYLNI",
                                    "2": "10919"
                                },
                                {
                                    "0": "26",
                                    "1": "Product HLGZA",
                                    "2": "11024"
                                },
                                {
                                    "0": "26",
                                    "1": "Product HLGZA",
                                    "2": "11021"
                                },
                                {
                                    "0": "27",
                                    "1": "Product SMIOH",
                                    "2": "10979"
                                },
                                {
                                    "0": "27",
                                    "1": "Product SMIOH",
                                    "2": "10930"
                                },
                                {
                                    "0": "28",
                                    "1": "Product OFBNT",
                                    "2": "11068"
                                },
                                {
                                    "0": "28",
                                    "1": "Product OFBNT",
                                    "2": "11039"
                                },
                                {
                                    "0": "29",
                                    "1": "Product VJXYN",
                                    "2": "11030"
                                },
                                {
                                    "0": "29",
                                    "1": "Product VJXYN",
                                    "2": "11007"
                                },
                                {
                                    "0": "30",
                                    "1": "Product LYERX",
                                    "2": "11065"
                                },
                                {
                                    "0": "30",
                                    "1": "Product LYERX",
                                    "2": "11015"
                                },
                                {
                                    "0": "31",
                                    "1": "Product XWOXC",
                                    "2": "11070"
                                },
                                {
                                    "0": "31",
                                    "1": "Product XWOXC",
                                    "2": "11016"
                                },
                                {
                                    "0": "32",
                                    "1": "Product NUNAW",
                                    "2": "11077"
                                },
                                {
                                    "0": "32",
                                    "1": "Product NUNAW",
                                    "2": "11053"
                                },
                                {
                                    "0": "33",
                                    "1": "Product ASTMN",
                                    "2": "11054"
                                },
                                {
                                    "0": "33",
                                    "1": "Product ASTMN",
                                    "2": "11045"
                                },
                                {
                                    "0": "34",
                                    "1": "Product SWNJY",
                                    "2": "11066"
                                },
                                {
                                    "0": "34",
                                    "1": "Product SWNJY",
                                    "2": "11063"
                                },
                                {
                                    "0": "35",
                                    "1": "Product NEVTJ",
                                    "2": "11046"
                                },
                                {
                                    "0": "35",
                                    "1": "Product NEVTJ",
                                    "2": "11039"
                                },
                                {
                                    "0": "36",
                                    "1": "Product GMKIJ",
                                    "2": "11032"
                                },
                                {
                                    "0": "36",
                                    "1": "Product GMKIJ",
                                    "2": "11016"
                                },
                                {
                                    "0": "37",
                                    "1": "Product EVFFA",
                                    "2": "10966"
                                },
                                {
                                    "0": "37",
                                    "1": "Product EVFFA",
                                    "2": "10847"
                                },
                                {
                                    "0": "38",
                                    "1": "Product QDOMO",
                                    "2": "11032"
                                },
                                {
                                    "0": "38",
                                    "1": "Product QDOMO",
                                    "2": "10981"
                                },
                                {
                                    "0": "39",
                                    "1": "Product LSOFL",
                                    "2": "11077"
                                },
                                {
                                    "0": "39",
                                    "1": "Product LSOFL",
                                    "2": "11069"
                                },
                                {
                                    "0": "40",
                                    "1": "Product YZIXQ",
                                    "2": "11063"
                                },
                                {
                                    "0": "40",
                                    "1": "Product YZIXQ",
                                    "2": "11038"
                                },
                                {
                                    "0": "41",
                                    "1": "Product TTEEX",
                                    "2": "11077"
                                },
                                {
                                    "0": "41",
                                    "1": "Product TTEEX",
                                    "2": "11072"
                                },
                                {
                                    "0": "42",
                                    "1": "Product RJVNM",
                                    "2": "11035"
                                },
                                {
                                    "0": "42",
                                    "1": "Product RJVNM",
                                    "2": "11013"
                                },
                                {
                                    "0": "43",
                                    "1": "Product ZZZHR",
                                    "2": "11068"
                                },
                                {
                                    "0": "43",
                                    "1": "Product ZZZHR",
                                    "2": "11052"
                                },
                                {
                                    "0": "44",
                                    "1": "Product VJIEO",
                                    "2": "11042"
                                },
                                {
                                    "0": "44",
                                    "1": "Product VJIEO",
                                    "2": "11034"
                                },
                                {
                                    "0": "45",
                                    "1": "Product AQOKR",
                                    "2": "11013"
                                },
                                {
                                    "0": "45",
                                    "1": "Product AQOKR",
                                    "2": "10954"
                                },
                                {
                                    "0": "46",
                                    "1": "Product CBRRL",
                                    "2": "11077"
                                },
                                {
                                    "0": "46",
                                    "1": "Product CBRRL",
                                    "2": "11075"
                                },
                                {
                                    "0": "47",
                                    "1": "Product EZZPR",
                                    "2": "10977"
                                },
                                {
                                    "0": "47",
                                    "1": "Product EZZPR",
                                    "2": "10956"
                                },
                                {
                                    "0": "48",
                                    "1": "Product MYNXN",
                                    "2": "10814"
                                },
                                {
                                    "0": "48",
                                    "1": "Product MYNXN",
                                    "2": "10704"
                                },
                                {
                                    "0": "49",
                                    "1": "Product FPYPN",
                                    "2": "11039"
                                },
                                {
                                    "0": "49",
                                    "1": "Product FPYPN",
                                    "2": "11019"
                                },
                                {
                                    "0": "50",
                                    "1": "Product BIUDV",
                                    "2": "11072"
                                },
                                {
                                    "0": "50",
                                    "1": "Product BIUDV",
                                    "2": "10948"
                                },
                                {
                                    "0": "51",
                                    "1": "Product APITJ",
                                    "2": "11055"
                                },
                                {
                                    "0": "51",
                                    "1": "Product APITJ",
                                    "2": "11045"
                                },
                                {
                                    "0": "52",
                                    "1": "Product QSRXF",
                                    "2": "11077"
                                },
                                {
                                    "0": "52",
                                    "1": "Product QSRXF",
                                    "2": "11038"
                                },
                                {
                                    "0": "53",
                                    "1": "Product BKGEA",
                                    "2": "11064"
                                },
                                {
                                    "0": "53",
                                    "1": "Product BKGEA",
                                    "2": "11062"
                                },
                                {
                                    "0": "54",
                                    "1": "Product QAQRL",
                                    "2": "11065"
                                },
                                {
                                    "0": "54",
                                    "1": "Product QAQRL",
                                    "2": "11035"
                                },
                                {
                                    "0": "55",
                                    "1": "Product YYWRT",
                                    "2": "11077"
                                },
                                {
                                    "0": "55",
                                    "1": "Product YYWRT",
                                    "2": "11064"
                                },
                                {
                                    "0": "56",
                                    "1": "Product VKCMF",
                                    "2": "11029"
                                },
                                {
                                    "0": "56",
                                    "1": "Product VKCMF",
                                    "2": "11018"
                                },
                                {
                                    "0": "57",
                                    "1": "Product OVLQI",
                                    "2": "11055"
                                },
                                {
                                    "0": "57",
                                    "1": "Product OVLQI",
                                    "2": "11039"
                                },
                                {
                                    "0": "58",
                                    "1": "Product ACRVI",
                                    "2": "11011"
                                },
                                {
                                    "0": "58",
                                    "1": "Product ACRVI",
                                    "2": "10930"
                                },
                                {
                                    "0": "59",
                                    "1": "Product UKXRI",
                                    "2": "11036"
                                },
                                {
                                    "0": "59",
                                    "1": "Product UKXRI",
                                    "2": "11032"
                                },
                                {
                                    "0": "60",
                                    "1": "Product WHBYK",
                                    "2": "11077"
                                },
                                {
                                    "0": "60",
                                    "1": "Product WHBYK",
                                    "2": "11061"
                                },
                                {
                                    "0": "61",
                                    "1": "Product XYZPE",
                                    "2": "11058"
                                },
                                {
                                    "0": "61",
                                    "1": "Product XYZPE",
                                    "2": "11052"
                                },
                                {
                                    "0": "62",
                                    "1": "Product WUXYK",
                                    "2": "11044"
                                },
                                {
                                    "0": "62",
                                    "1": "Product WUXYK",
                                    "2": "11027"
                                },
                                {
                                    "0": "63",
                                    "1": "Product ICKNK",
                                    "2": "11041"
                                },
                                {
                                    "0": "63",
                                    "1": "Product ICKNK",
                                    "2": "11029"
                                },
                                {
                                    "0": "64",
                                    "1": "Product HCQDE",
                                    "2": "11077"
                                },
                                {
                                    "0": "64",
                                    "1": "Product HCQDE",
                                    "2": "11072"
                                },
                                {
                                    "0": "65",
                                    "1": "Product XYWBZ",
                                    "2": "11024"
                                },
                                {
                                    "0": "65",
                                    "1": "Product XYWBZ",
                                    "2": "10903"
                                },
                                {
                                    "0": "66",
                                    "1": "Product LQMGN",
                                    "2": "11077"
                                },
                                {
                                    "0": "66",
                                    "1": "Product LQMGN",
                                    "2": "10774"
                                },
                                {
                                    "0": "67",
                                    "1": "Product XLXQF",
                                    "2": "11054"
                                },
                                {
                                    "0": "67",
                                    "1": "Product XLXQF",
                                    "2": "10939"
                                },
                                {
                                    "0": "68",
                                    "1": "Product TBTBL",
                                    "2": "11064"
                                },
                                {
                                    "0": "68",
                                    "1": "Product TBTBL",
                                    "2": "11048"
                                },
                                {
                                    "0": "69",
                                    "1": "Product COAXA",
                                    "2": "11033"
                                },
                                {
                                    "0": "69",
                                    "1": "Product COAXA",
                                    "2": "11022"
                                },
                                {
                                    "0": "70",
                                    "1": "Product TOONT",
                                    "2": "11062"
                                },
                                {
                                    "0": "70",
                                    "1": "Product TOONT",
                                    "2": "11057"
                                },
                                {
                                    "0": "71",
                                    "1": "Product MYMOI",
                                    "2": "11038"
                                },
                                {
                                    "0": "71",
                                    "1": "Product MYMOI",
                                    "2": "11031"
                                },
                                {
                                    "0": "72",
                                    "1": "Product GEEOO",
                                    "2": "11021"
                                },
                                {
                                    "0": "72",
                                    "1": "Product GEEOO",
                                    "2": "10992"
                                },
                                {
                                    "0": "73",
                                    "1": "Product WEUJZ",
                                    "2": "11077"
                                },
                                {
                                    "0": "73",
                                    "1": "Product WEUJZ",
                                    "2": "10881"
                                },
                                {
                                    "0": "74",
                                    "1": "Product BKAZJ",
                                    "2": "10998"
                                },
                                {
                                    "0": "74",
                                    "1": "Product BKAZJ",
                                    "2": "10846"
                                },
                                {
                                    "0": "75",
                                    "1": "Product BWRLG",
                                    "2": "11077"
                                },
                                {
                                    "0": "75",
                                    "1": "Product BWRLG",
                                    "2": "10998"
                                },
                                {
                                    "0": "76",
                                    "1": "Product JYGFE",
                                    "2": "11075"
                                },
                                {
                                    "0": "76",
                                    "1": "Product JYGFE",
                                    "2": "11050"
                                },
                                {
                                    "0": "77",
                                    "1": "Product LUNZZ",
                                    "2": "11077"
                                },
                                {
                                    "0": "77",
                                    "1": "Product LUNZZ",
                                    "2": "11068"
                                }
                            ]
                        },
                        "text/html": "<table><tr><th>productid</th><th>productname</th><th>orderid</th></tr><tr><td>1</td><td>Product HHYDP</td><td>11070</td></tr><tr><td>1</td><td>Product HHYDP</td><td>11047</td></tr><tr><td>2</td><td>Product RECZE</td><td>11077</td></tr><tr><td>2</td><td>Product RECZE</td><td>11075</td></tr><tr><td>3</td><td>Product IMEHJ</td><td>11077</td></tr><tr><td>3</td><td>Product IMEHJ</td><td>11017</td></tr><tr><td>4</td><td>Product KSBRM</td><td>11077</td></tr><tr><td>4</td><td>Product KSBRM</td><td>11000</td></tr><tr><td>5</td><td>Product EPEIM</td><td>11047</td></tr><tr><td>5</td><td>Product EPEIM</td><td>11030</td></tr><tr><td>6</td><td>Product VAIIV</td><td>11077</td></tr><tr><td>6</td><td>Product VAIIV</td><td>11076</td></tr><tr><td>7</td><td>Product HMLNI</td><td>11077</td></tr><tr><td>7</td><td>Product HMLNI</td><td>11071</td></tr><tr><td>8</td><td>Product WVJFP</td><td>11077</td></tr><tr><td>8</td><td>Product WVJFP</td><td>11007</td></tr><tr><td>9</td><td>Product AOZBW</td><td>10848</td></tr><tr><td>9</td><td>Product AOZBW</td><td>10693</td></tr><tr><td>10</td><td>Product YHXGE</td><td>11077</td></tr><tr><td>10</td><td>Product YHXGE</td><td>11020</td></tr><tr><td>11</td><td>Product QMVUN</td><td>11073</td></tr><tr><td>11</td><td>Product QMVUN</td><td>11043</td></tr><tr><td>12</td><td>Product OSFNS</td><td>11077</td></tr><tr><td>12</td><td>Product OSFNS</td><td>11049</td></tr><tr><td>13</td><td>Product POXFU</td><td>11077</td></tr><tr><td>13</td><td>Product POXFU</td><td>11071</td></tr><tr><td>14</td><td>Product PWCJB</td><td>11077</td></tr><tr><td>14</td><td>Product PWCJB</td><td>11076</td></tr><tr><td>15</td><td>Product KSZOI</td><td>10657</td></tr><tr><td>15</td><td>Product KSZOI</td><td>10592</td></tr><tr><td>16</td><td>Product PAFRH</td><td>11077</td></tr><tr><td>16</td><td>Product PAFRH</td><td>11074</td></tr><tr><td>17</td><td>Product BLCAX</td><td>11064</td></tr><tr><td>17</td><td>Product BLCAX</td><td>11059</td></tr><tr><td>18</td><td>Product CKEDC</td><td>11053</td></tr><tr><td>18</td><td>Product CKEDC</td><td>11026</td></tr><tr><td>19</td><td>Product XKXDO</td><td>11076</td></tr><tr><td>19</td><td>Product XKXDO</td><td>11066</td></tr><tr><td>20</td><td>Product QHFFP</td><td>11077</td></tr><tr><td>20</td><td>Product QHFFP</td><td>11021</td></tr><tr><td>21</td><td>Product VJZZH</td><td>11058</td></tr><tr><td>21</td><td>Product VJZZH</td><td>11040</td></tr><tr><td>22</td><td>Product CPHFY</td><td>11001</td></tr><tr><td>22</td><td>Product CPHFY</td><td>10943</td></tr><tr><td>23</td><td>Product JLUDZ</td><td>11077</td></tr><tr><td>23</td><td>Product JLUDZ</td><td>11013</td></tr><tr><td>24</td><td>Product QOGNU</td><td>11073</td></tr><tr><td>24</td><td>Product QOGNU</td><td>11055</td></tr><tr><td>25</td><td>Product LYLNI</td><td>11055</td></tr><tr><td>25</td><td>Product LYLNI</td><td>10919</td></tr><tr><td>26</td><td>Product HLGZA</td><td>11024</td></tr><tr><td>26</td><td>Product HLGZA</td><td>11021</td></tr><tr><td>27</td><td>Product SMIOH</td><td>10979</td></tr><tr><td>27</td><td>Product SMIOH</td><td>10930</td></tr><tr><td>28</td><td>Product OFBNT</td><td>11068</td></tr><tr><td>28</td><td>Product OFBNT</td><td>11039</td></tr><tr><td>29</td><td>Product VJXYN</td><td>11030</td></tr><tr><td>29</td><td>Product VJXYN</td><td>11007</td></tr><tr><td>30</td><td>Product LYERX</td><td>11065</td></tr><tr><td>30</td><td>Product LYERX</td><td>11015</td></tr><tr><td>31</td><td>Product XWOXC</td><td>11070</td></tr><tr><td>31</td><td>Product XWOXC</td><td>11016</td></tr><tr><td>32</td><td>Product NUNAW</td><td>11077</td></tr><tr><td>32</td><td>Product NUNAW</td><td>11053</td></tr><tr><td>33</td><td>Product ASTMN</td><td>11054</td></tr><tr><td>33</td><td>Product ASTMN</td><td>11045</td></tr><tr><td>34</td><td>Product SWNJY</td><td>11066</td></tr><tr><td>34</td><td>Product SWNJY</td><td>11063</td></tr><tr><td>35</td><td>Product NEVTJ</td><td>11046</td></tr><tr><td>35</td><td>Product NEVTJ</td><td>11039</td></tr><tr><td>36</td><td>Product GMKIJ</td><td>11032</td></tr><tr><td>36</td><td>Product GMKIJ</td><td>11016</td></tr><tr><td>37</td><td>Product EVFFA</td><td>10966</td></tr><tr><td>37</td><td>Product EVFFA</td><td>10847</td></tr><tr><td>38</td><td>Product QDOMO</td><td>11032</td></tr><tr><td>38</td><td>Product QDOMO</td><td>10981</td></tr><tr><td>39</td><td>Product LSOFL</td><td>11077</td></tr><tr><td>39</td><td>Product LSOFL</td><td>11069</td></tr><tr><td>40</td><td>Product YZIXQ</td><td>11063</td></tr><tr><td>40</td><td>Product YZIXQ</td><td>11038</td></tr><tr><td>41</td><td>Product TTEEX</td><td>11077</td></tr><tr><td>41</td><td>Product TTEEX</td><td>11072</td></tr><tr><td>42</td><td>Product RJVNM</td><td>11035</td></tr><tr><td>42</td><td>Product RJVNM</td><td>11013</td></tr><tr><td>43</td><td>Product ZZZHR</td><td>11068</td></tr><tr><td>43</td><td>Product ZZZHR</td><td>11052</td></tr><tr><td>44</td><td>Product VJIEO</td><td>11042</td></tr><tr><td>44</td><td>Product VJIEO</td><td>11034</td></tr><tr><td>45</td><td>Product AQOKR</td><td>11013</td></tr><tr><td>45</td><td>Product AQOKR</td><td>10954</td></tr><tr><td>46</td><td>Product CBRRL</td><td>11077</td></tr><tr><td>46</td><td>Product CBRRL</td><td>11075</td></tr><tr><td>47</td><td>Product EZZPR</td><td>10977</td></tr><tr><td>47</td><td>Product EZZPR</td><td>10956</td></tr><tr><td>48</td><td>Product MYNXN</td><td>10814</td></tr><tr><td>48</td><td>Product MYNXN</td><td>10704</td></tr><tr><td>49</td><td>Product FPYPN</td><td>11039</td></tr><tr><td>49</td><td>Product FPYPN</td><td>11019</td></tr><tr><td>50</td><td>Product BIUDV</td><td>11072</td></tr><tr><td>50</td><td>Product BIUDV</td><td>10948</td></tr><tr><td>51</td><td>Product APITJ</td><td>11055</td></tr><tr><td>51</td><td>Product APITJ</td><td>11045</td></tr><tr><td>52</td><td>Product QSRXF</td><td>11077</td></tr><tr><td>52</td><td>Product QSRXF</td><td>11038</td></tr><tr><td>53</td><td>Product BKGEA</td><td>11064</td></tr><tr><td>53</td><td>Product BKGEA</td><td>11062</td></tr><tr><td>54</td><td>Product QAQRL</td><td>11065</td></tr><tr><td>54</td><td>Product QAQRL</td><td>11035</td></tr><tr><td>55</td><td>Product YYWRT</td><td>11077</td></tr><tr><td>55</td><td>Product YYWRT</td><td>11064</td></tr><tr><td>56</td><td>Product VKCMF</td><td>11029</td></tr><tr><td>56</td><td>Product VKCMF</td><td>11018</td></tr><tr><td>57</td><td>Product OVLQI</td><td>11055</td></tr><tr><td>57</td><td>Product OVLQI</td><td>11039</td></tr><tr><td>58</td><td>Product ACRVI</td><td>11011</td></tr><tr><td>58</td><td>Product ACRVI</td><td>10930</td></tr><tr><td>59</td><td>Product UKXRI</td><td>11036</td></tr><tr><td>59</td><td>Product UKXRI</td><td>11032</td></tr><tr><td>60</td><td>Product WHBYK</td><td>11077</td></tr><tr><td>60</td><td>Product WHBYK</td><td>11061</td></tr><tr><td>61</td><td>Product XYZPE</td><td>11058</td></tr><tr><td>61</td><td>Product XYZPE</td><td>11052</td></tr><tr><td>62</td><td>Product WUXYK</td><td>11044</td></tr><tr><td>62</td><td>Product WUXYK</td><td>11027</td></tr><tr><td>63</td><td>Product ICKNK</td><td>11041</td></tr><tr><td>63</td><td>Product ICKNK</td><td>11029</td></tr><tr><td>64</td><td>Product HCQDE</td><td>11077</td></tr><tr><td>64</td><td>Product HCQDE</td><td>11072</td></tr><tr><td>65</td><td>Product XYWBZ</td><td>11024</td></tr><tr><td>65</td><td>Product XYWBZ</td><td>10903</td></tr><tr><td>66</td><td>Product LQMGN</td><td>11077</td></tr><tr><td>66</td><td>Product LQMGN</td><td>10774</td></tr><tr><td>67</td><td>Product XLXQF</td><td>11054</td></tr><tr><td>67</td><td>Product XLXQF</td><td>10939</td></tr><tr><td>68</td><td>Product TBTBL</td><td>11064</td></tr><tr><td>68</td><td>Product TBTBL</td><td>11048</td></tr><tr><td>69</td><td>Product COAXA</td><td>11033</td></tr><tr><td>69</td><td>Product COAXA</td><td>11022</td></tr><tr><td>70</td><td>Product TOONT</td><td>11062</td></tr><tr><td>70</td><td>Product TOONT</td><td>11057</td></tr><tr><td>71</td><td>Product MYMOI</td><td>11038</td></tr><tr><td>71</td><td>Product MYMOI</td><td>11031</td></tr><tr><td>72</td><td>Product GEEOO</td><td>11021</td></tr><tr><td>72</td><td>Product GEEOO</td><td>10992</td></tr><tr><td>73</td><td>Product WEUJZ</td><td>11077</td></tr><tr><td>73</td><td>Product WEUJZ</td><td>10881</td></tr><tr><td>74</td><td>Product BKAZJ</td><td>10998</td></tr><tr><td>74</td><td>Product BKAZJ</td><td>10846</td></tr><tr><td>75</td><td>Product BWRLG</td><td>11077</td></tr><tr><td>75</td><td>Product BWRLG</td><td>10998</td></tr><tr><td>76</td><td>Product JYGFE</td><td>11075</td></tr><tr><td>76</td><td>Product JYGFE</td><td>11050</td></tr><tr><td>77</td><td>Product LUNZZ</td><td>11077</td></tr><tr><td>77</td><td>Product LUNZZ</td><td>11068</td></tr></table>"
                    }
                }
            ],
            "execution_count": 13
        },
        {
            "cell_type": "markdown",
            "source": "3.3. Ejecutar la sentencia siguiente para crear la función fnGetTop3ProductsForCustomer.",
            "metadata": {}
        },
        {
            "cell_type": "code",
            "source": "DROP FUNCTION IF EXISTS dbo.fnGetTop3ProductsForCustomer; \r\nGO \r\nCREATE FUNCTION dbo.fnGetTop3ProductsForCustomer (@custid AS INT) \r\nRETURNS TABLE AS \r\nRETURN \r\nSELECT TOP(3) d.productid, p.productname, SUM(d.qty * d.unitprice) AS totalsalesamount \r\nFROM Sales.Orders AS o \r\nINNER JOIN Sales.OrderDetails AS d ON d.orderid = o.orderid \r\nINNER JOIN Production.Products AS p ON p.productid = d.productid \r\nWHERE custid = @custid \r\nGROUP BY d.productid, p.productname \r\nORDER BY totalsalesamount DESC;",
            "metadata": {},
            "outputs": [
                {
                    "output_type": "display_data",
                    "data": {
                        "text/html": "Commands completed successfully."
                    },
                    "metadata": {}
                },
                {
                    "output_type": "display_data",
                    "data": {
                        "text/html": "Commands completed successfully."
                    },
                    "metadata": {}
                },
                {
                    "output_type": "display_data",
                    "data": {
                        "text/html": "Total execution time: 00:00:00.003"
                    },
                    "metadata": {}
                }
            ],
            "execution_count": 19
        },
        {
            "cell_type": "markdown",
            "source": "3.4. Write a SELECT statement to retrieve the custid and contactname columns from the Sales.Customers table. Use the CROSS APPLY operator with the dbo.fnGetTop3ProductsForCustomer function to retrieve productid, productname, and totalsalesamount columns for each customer",
            "metadata": {}
        },
        {
            "cell_type": "code",
            "source": "select \r\nc.custid, c.contactname, p.productid, p.productname, p.totalsalesamount \r\nfrom sales.Customers as c \r\ncross APPLY dbo.fnGetTop3ProductsForCustomer (c.custid)as p \r\norder by c.custid;",
            "metadata": {},
            "outputs": [
                {
                    "output_type": "display_data",
                    "data": {
                        "text/html": "(265 rows affected)"
                    },
                    "metadata": {}
                },
                {
                    "output_type": "display_data",
                    "data": {
                        "text/html": "Total execution time: 00:00:00.016"
                    },
                    "metadata": {}
                },
                {
                    "output_type": "execute_result",
                    "metadata": {},
                    "execution_count": 20,
                    "data": {
                        "application/vnd.dataresource+json": {
                            "schema": {
                                "fields": [
                                    {
                                        "name": "custid"
                                    },
                                    {
                                        "name": "contactname"
                                    },
                                    {
                                        "name": "productid"
                                    },
                                    {
                                        "name": "productname"
                                    },
                                    {
                                        "name": "totalsalesamount"
                                    }
                                ]
                            },
                            "data": [
                                {
                                    "0": "1",
                                    "1": "Allen, Michael",
                                    "2": "63",
                                    "3": "Product ICKNK",
                                    "4": "878,0000"
                                },
                                {
                                    "0": "1",
                                    "1": "Allen, Michael",
                                    "2": "59",
                                    "3": "Product UKXRI",
                                    "4": "825,0000"
                                },
                                {
                                    "0": "1",
                                    "1": "Allen, Michael",
                                    "2": "28",
                                    "3": "Product OFBNT",
                                    "4": "775,2000"
                                },
                                {
                                    "0": "2",
                                    "1": "Hassall, Mark",
                                    "2": "72",
                                    "3": "Product GEEOO",
                                    "4": "348,0000"
                                },
                                {
                                    "0": "2",
                                    "1": "Hassall, Mark",
                                    "2": "60",
                                    "3": "Product WHBYK",
                                    "4": "340,0000"
                                },
                                {
                                    "0": "2",
                                    "1": "Hassall, Mark",
                                    "2": "32",
                                    "3": "Product NUNAW",
                                    "4": "320,0000"
                                },
                                {
                                    "0": "3",
                                    "1": "Peoples, John",
                                    "2": "11",
                                    "3": "Product QMVUN",
                                    "4": "1453,2000"
                                },
                                {
                                    "0": "3",
                                    "1": "Peoples, John",
                                    "2": "26",
                                    "3": "Product HLGZA",
                                    "4": "936,9000"
                                },
                                {
                                    "0": "3",
                                    "1": "Peoples, John",
                                    "2": "59",
                                    "3": "Product UKXRI",
                                    "4": "825,0000"
                                },
                                {
                                    "0": "4",
                                    "1": "Arndt, Torsten",
                                    "2": "20",
                                    "3": "Product QHFFP",
                                    "4": "4050,0000"
                                },
                                {
                                    "0": "4",
                                    "1": "Arndt, Torsten",
                                    "2": "31",
                                    "3": "Product XWOXC",
                                    "4": "1437,5000"
                                },
                                {
                                    "0": "4",
                                    "1": "Arndt, Torsten",
                                    "2": "57",
                                    "3": "Product OVLQI",
                                    "4": "1170,0000"
                                },
                                {
                                    "0": "5",
                                    "1": "Higginbotham, Tom",
                                    "2": "38",
                                    "3": "Product QDOMO",
                                    "4": "3952,5000"
                                },
                                {
                                    "0": "5",
                                    "1": "Higginbotham, Tom",
                                    "2": "43",
                                    "3": "Product ZZZHR",
                                    "4": "2760,0000"
                                },
                                {
                                    "0": "5",
                                    "1": "Higginbotham, Tom",
                                    "2": "28",
                                    "3": "Product OFBNT",
                                    "4": "2280,0000"
                                },
                                {
                                    "0": "6",
                                    "1": "Poland, Carole",
                                    "2": "60",
                                    "3": "Product WHBYK",
                                    "4": "714,0000"
                                },
                                {
                                    "0": "6",
                                    "1": "Poland, Carole",
                                    "2": "18",
                                    "3": "Product CKEDC",
                                    "4": "625,0000"
                                },
                                {
                                    "0": "6",
                                    "1": "Poland, Carole",
                                    "2": "51",
                                    "3": "Product APITJ",
                                    "4": "424,0000"
                                },
                                {
                                    "0": "7",
                                    "1": "Bansal, Dushyant",
                                    "2": "29",
                                    "3": "Product VJXYN",
                                    "4": "3465,0000"
                                },
                                {
                                    "0": "7",
                                    "1": "Bansal, Dushyant",
                                    "2": "38",
                                    "3": "Product QDOMO",
                                    "4": "2108,0000"
                                },
                                {
                                    "0": "7",
                                    "1": "Bansal, Dushyant",
                                    "2": "62",
                                    "3": "Product WUXYK",
                                    "4": "1379,0000"
                                },
                                {
                                    "0": "8",
                                    "1": "Ilyina, Julia",
                                    "2": "29",
                                    "3": "Product VJXYN",
                                    "4": "2475,8000"
                                },
                                {
                                    "0": "8",
                                    "1": "Ilyina, Julia",
                                    "2": "17",
                                    "3": "Product BLCAX",
                                    "4": "1560,0000"
                                },
                                {
                                    "0": "8",
                                    "1": "Ilyina, Julia",
                                    "2": "4",
                                    "3": "Product KSBRM",
                                    "4": "422,4000"
                                },
                                {
                                    "0": "9",
                                    "1": "Raghav, Amritansh",
                                    "2": "18",
                                    "3": "Product CKEDC",
                                    "4": "2500,0000"
                                },
                                {
                                    "0": "9",
                                    "1": "Raghav, Amritansh",
                                    "2": "51",
                                    "3": "Product APITJ",
                                    "4": "1908,0000"
                                },
                                {
                                    "0": "9",
                                    "1": "Raghav, Amritansh",
                                    "2": "6",
                                    "3": "Product VAIIV",
                                    "4": "1750,0000"
                                },
                                {
                                    "0": "10",
                                    "1": "Bassols, Pilar Colome",
                                    "2": "62",
                                    "3": "Product WUXYK",
                                    "4": "4781,3000"
                                },
                                {
                                    "0": "10",
                                    "1": "Bassols, Pilar Colome",
                                    "2": "60",
                                    "3": "Product WHBYK",
                                    "4": "2550,0000"
                                },
                                {
                                    "0": "10",
                                    "1": "Bassols, Pilar Colome",
                                    "2": "17",
                                    "3": "Product BLCAX",
                                    "4": "1794,0000"
                                },
                                {
                                    "0": "11",
                                    "1": "Jaffe, David",
                                    "2": "43",
                                    "3": "Product ZZZHR",
                                    "4": "1380,0000"
                                },
                                {
                                    "0": "11",
                                    "1": "Jaffe, David",
                                    "2": "7",
                                    "3": "Product HMLNI",
                                    "4": "840,0000"
                                },
                                {
                                    "0": "11",
                                    "1": "Jaffe, David",
                                    "2": "56",
                                    "3": "Product VKCMF",
                                    "4": "608,0000"
                                },
                                {
                                    "0": "12",
                                    "1": "Ray, Mike",
                                    "2": "28",
                                    "3": "Product OFBNT",
                                    "4": "364,8000"
                                },
                                {
                                    "0": "12",
                                    "1": "Ray, Mike",
                                    "2": "43",
                                    "3": "Product ZZZHR",
                                    "4": "322,0000"
                                },
                                {
                                    "0": "12",
                                    "1": "Ray, Mike",
                                    "2": "67",
                                    "3": "Product XLXQF",
                                    "4": "280,0000"
                                },
                                {
                                    "0": "13",
                                    "1": "Benito, Almudena",
                                    "2": "21",
                                    "3": "Product VJZZH",
                                    "4": "80,0000"
                                },
                                {
                                    "0": "13",
                                    "1": "Benito, Almudena",
                                    "2": "37",
                                    "3": "Product EVFFA",
                                    "4": "20,8000"
                                },
                                {
                                    "0": "14",
                                    "1": "Jelitto, Jacek",
                                    "2": "56",
                                    "3": "Product VKCMF",
                                    "4": "2736,0000"
                                },
                                {
                                    "0": "14",
                                    "1": "Jelitto, Jacek",
                                    "2": "63",
                                    "3": "Product ICKNK",
                                    "4": "1843,8000"
                                },
                                {
                                    "0": "14",
                                    "1": "Jelitto, Jacek",
                                    "2": "51",
                                    "3": "Product APITJ",
                                    "4": "1590,0000"
                                },
                                {
                                    "0": "15",
                                    "1": "Richardson, Shawn",
                                    "2": "29",
                                    "3": "Product VJXYN",
                                    "4": "1485,0000"
                                },
                                {
                                    "0": "15",
                                    "1": "Richardson, Shawn",
                                    "2": "56",
                                    "3": "Product VKCMF",
                                    "4": "912,0000"
                                },
                                {
                                    "0": "15",
                                    "1": "Richardson, Shawn",
                                    "2": "5",
                                    "3": "Product EPEIM",
                                    "4": "340,0000"
                                },
                                {
                                    "0": "16",
                                    "1": "Birkby, Dana",
                                    "2": "5",
                                    "3": "Product EPEIM",
                                    "4": "640,5000"
                                },
                                {
                                    "0": "16",
                                    "1": "Birkby, Dana",
                                    "2": "9",
                                    "3": "Product AOZBW",
                                    "4": "291,0000"
                                },
                                {
                                    "0": "16",
                                    "1": "Birkby, Dana",
                                    "2": "72",
                                    "3": "Product GEEOO",
                                    "4": "278,0000"
                                },
                                {
                                    "0": "17",
                                    "1": "Jones, TiAnna",
                                    "2": "59",
                                    "3": "Product UKXRI",
                                    "4": "1650,0000"
                                },
                                {
                                    "0": "17",
                                    "1": "Jones, TiAnna",
                                    "2": "53",
                                    "3": "Product BKGEA",
                                    "4": "656,0000"
                                },
                                {
                                    "0": "17",
                                    "1": "Jones, TiAnna",
                                    "2": "11",
                                    "3": "Product QMVUN",
                                    "4": "420,0000"
                                },
                                {
                                    "0": "18",
                                    "1": "Rizaldy, Arif",
                                    "2": "17",
                                    "3": "Product BLCAX",
                                    "4": "585,0000"
                                },
                                {
                                    "0": "18",
                                    "1": "Rizaldy, Arif",
                                    "2": "10",
                                    "3": "Product YHXGE",
                                    "4": "310,0000"
                                },
                                {
                                    "0": "18",
                                    "1": "Rizaldy, Arif",
                                    "2": "69",
                                    "3": "Product COAXA",
                                    "4": "201,6000"
                                },
                                {
                                    "0": "19",
                                    "1": "Boseman, Randall",
                                    "2": "7",
                                    "3": "Product HMLNI",
                                    "4": "3000,0000"
                                },
                                {
                                    "0": "19",
                                    "1": "Boseman, Randall",
                                    "2": "29",
                                    "3": "Product VJXYN",
                                    "4": "2079,0000"
                                },
                                {
                                    "0": "19",
                                    "1": "Boseman, Randall",
                                    "2": "60",
                                    "3": "Product WHBYK",
                                    "4": "1700,0000"
                                },
                                {
                                    "0": "20",
                                    "1": "Kane, John",
                                    "2": "59",
                                    "3": "Product UKXRI",
                                    "4": "9130,0000"
                                },
                                {
                                    "0": "20",
                                    "1": "Kane, John",
                                    "2": "64",
                                    "3": "Product HCQDE",
                                    "4": "6384,0000"
                                },
                                {
                                    "0": "20",
                                    "1": "Kane, John",
                                    "2": "51",
                                    "3": "Product APITJ",
                                    "4": "6360,0000"
                                },
                                {
                                    "0": "21",
                                    "1": "Russo, Giuseppe",
                                    "2": "53",
                                    "3": "Product BKGEA",
                                    "4": "820,0000"
                                },
                                {
                                    "0": "21",
                                    "1": "Russo, Giuseppe",
                                    "2": "30",
                                    "3": "Product LYERX",
                                    "4": "776,7000"
                                },
                                {
                                    "0": "21",
                                    "1": "Russo, Giuseppe",
                                    "2": "39",
                                    "3": "Product LSOFL",
                                    "4": "720,0000"
                                },
                                {
                                    "0": "23",
                                    "1": "Khanna, Karan",
                                    "2": "18",
                                    "3": "Product CKEDC",
                                    "4": "5000,0000"
                                },
                                {
                                    "0": "23",
                                    "1": "Khanna, Karan",
                                    "2": "62",
                                    "3": "Product WUXYK",
                                    "4": "1379,0000"
                                },
                                {
                                    "0": "23",
                                    "1": "Khanna, Karan",
                                    "2": "63",
                                    "3": "Product ICKNK",
                                    "4": "1317,0000"
                                },
                                {
                                    "0": "24",
                                    "1": "San Juan, Patricia",
                                    "2": "29",
                                    "3": "Product VJXYN",
                                    "4": "6189,5000"
                                },
                                {
                                    "0": "24",
                                    "1": "San Juan, Patricia",
                                    "2": "51",
                                    "3": "Product APITJ",
                                    "4": "4664,0000"
                                },
                                {
                                    "0": "24",
                                    "1": "San Juan, Patricia",
                                    "2": "56",
                                    "3": "Product VKCMF",
                                    "4": "2280,0000"
                                },
                                {
                                    "0": "25",
                                    "1": "Carlson, Jason",
                                    "2": "59",
                                    "3": "Product UKXRI",
                                    "4": "4400,0000"
                                },
                                {
                                    "0": "25",
                                    "1": "Carlson, Jason",
                                    "2": "71",
                                    "3": "Product MYMOI",
                                    "4": "2322,0000"
                                },
                                {
                                    "0": "25",
                                    "1": "Carlson, Jason",
                                    "2": "60",
                                    "3": "Product WHBYK",
                                    "4": "1904,0000"
                                },
                                {
                                    "0": "26",
                                    "1": "Koch, Paul",
                                    "2": "29",
                                    "3": "Product VJXYN",
                                    "4": "1733,0600"
                                },
                                {
                                    "0": "26",
                                    "1": "Koch, Paul",
                                    "2": "62",
                                    "3": "Product WUXYK",
                                    "4": "493,0000"
                                },
                                {
                                    "0": "26",
                                    "1": "Koch, Paul",
                                    "2": "76",
                                    "3": "Product JYGFE",
                                    "4": "360,0000"
                                },
                                {
                                    "0": "27",
                                    "1": "Schmöllerl, Martin",
                                    "2": "51",
                                    "3": "Product APITJ",
                                    "4": "530,0000"
                                },
                                {
                                    "0": "27",
                                    "1": "Schmöllerl, Martin",
                                    "2": "18",
                                    "3": "Product CKEDC",
                                    "4": "500,0000"
                                },
                                {
                                    "0": "27",
                                    "1": "Schmöllerl, Martin",
                                    "2": "60",
                                    "3": "Product WHBYK",
                                    "4": "136,0000"
                                },
                                {
                                    "0": "28",
                                    "1": "Cavaglieri, Giorgio",
                                    "2": "56",
                                    "3": "Product VKCMF",
                                    "4": "1368,0000"
                                },
                                {
                                    "0": "28",
                                    "1": "Cavaglieri, Giorgio",
                                    "2": "44",
                                    "3": "Product VJIEO",
                                    "4": "1010,5000"
                                },
                                {
                                    "0": "28",
                                    "1": "Cavaglieri, Giorgio",
                                    "2": "65",
                                    "3": "Product XYWBZ",
                                    "4": "987,7500"
                                },
                                {
                                    "0": "29",
                                    "1": "Kolesnikova, Katerina",
                                    "2": "64",
                                    "3": "Product HCQDE",
                                    "4": "186,2000"
                                },
                                {
                                    "0": "29",
                                    "1": "Kolesnikova, Katerina",
                                    "2": "10",
                                    "3": "Product YHXGE",
                                    "4": "155,0000"
                                },
                                {
                                    "0": "29",
                                    "1": "Kolesnikova, Katerina",
                                    "2": "56",
                                    "3": "Product VKCMF",
                                    "4": "152,0000"
                                },
                                {
                                    "0": "30",
                                    "1": "Shabalin, Rostislav",
                                    "2": "29",
                                    "3": "Product VJXYN",
                                    "4": "2475,8000"
                                },
                                {
                                    "0": "30",
                                    "1": "Shabalin, Rostislav",
                                    "2": "51",
                                    "3": "Product APITJ",
                                    "4": "2120,0000"
                                },
                                {
                                    "0": "30",
                                    "1": "Shabalin, Rostislav",
                                    "2": "62",
                                    "3": "Product WUXYK",
                                    "4": "986,0000"
                                },
                                {
                                    "0": "31",
                                    "1": "Cheng, Yao-Qiang",
                                    "2": "8",
                                    "3": "Product WVJFP",
                                    "4": "1600,0000"
                                },
                                {
                                    "0": "31",
                                    "1": "Cheng, Yao-Qiang",
                                    "2": "51",
                                    "3": "Product APITJ",
                                    "4": "1484,0000"
                                },
                                {
                                    "0": "31",
                                    "1": "Cheng, Yao-Qiang",
                                    "2": "59",
                                    "3": "Product UKXRI",
                                    "4": "880,0000"
                                },
                                {
                                    "0": "32",
                                    "1": "Krishnan, Venky",
                                    "2": "38",
                                    "3": "Product QDOMO",
                                    "4": "11857,5000"
                                },
                                {
                                    "0": "32",
                                    "1": "Krishnan, Venky",
                                    "2": "59",
                                    "3": "Product UKXRI",
                                    "4": "1650,0000"
                                },
                                {
                                    "0": "32",
                                    "1": "Krishnan, Venky",
                                    "2": "62",
                                    "3": "Product WUXYK",
                                    "4": "986,0000"
                                },
                                {
                                    "0": "33",
                                    "1": "Sigurdarson, Hallur ",
                                    "2": "29",
                                    "3": "Product VJXYN",
                                    "4": "990,0000"
                                },
                                {
                                    "0": "33",
                                    "1": "Sigurdarson, Hallur ",
                                    "2": "10",
                                    "3": "Product YHXGE",
                                    "4": "310,0000"
                                },
                                {
                                    "0": "33",
                                    "1": "Sigurdarson, Hallur ",
                                    "2": "72",
                                    "3": "Product GEEOO",
                                    "4": "111,2000"
                                },
                                {
                                    "0": "34",
                                    "1": "Cohen, Shy",
                                    "2": "38",
                                    "3": "Product QDOMO",
                                    "4": "18181,5000"
                                },
                                {
                                    "0": "34",
                                    "1": "Cohen, Shy",
                                    "2": "10",
                                    "3": "Product YHXGE",
                                    "4": "2170,0000"
                                },
                                {
                                    "0": "34",
                                    "1": "Cohen, Shy",
                                    "2": "51",
                                    "3": "Product APITJ",
                                    "4": "1484,0000"
                                },
                                {
                                    "0": "35",
                                    "1": "Langohr, Kris",
                                    "2": "59",
                                    "3": "Product UKXRI",
                                    "4": "4565,0000"
                                },
                                {
                                    "0": "35",
                                    "1": "Langohr, Kris",
                                    "2": "51",
                                    "3": "Product APITJ",
                                    "4": "2120,0000"
                                },
                                {
                                    "0": "35",
                                    "1": "Langohr, Kris",
                                    "2": "53",
                                    "3": "Product BKGEA",
                                    "4": "1834,0000"
                                },
                                {
                                    "0": "36",
                                    "1": "Smith, Denise",
                                    "2": "20",
                                    "3": "Product QHFFP",
                                    "4": "1701,0000"
                                },
                                {
                                    "0": "36",
                                    "1": "Smith, Denise",
                                    "2": "73",
                                    "3": "Product WEUJZ",
                                    "4": "450,0000"
                                },
                                {
                                    "0": "36",
                                    "1": "Smith, Denise",
                                    "2": "62",
                                    "3": "Product WUXYK",
                                    "4": "394,0000"
                                },
                                {
                                    "0": "37",
                                    "1": "Crăciun, Ovidiu V.",
                                    "2": "29",
                                    "3": "Product VJXYN",
                                    "4": "18568,5000"
                                },
                                {
                                    "0": "37",
                                    "1": "Crăciun, Ovidiu V.",
                                    "2": "59",
                                    "3": "Product UKXRI",
                                    "4": "5830,0000"
                                },
                                {
                                    "0": "37",
                                    "1": "Crăciun, Ovidiu V.",
                                    "2": "9",
                                    "3": "Product AOZBW",
                                    "4": "4850,0000"
                                },
                                {
                                    "0": "38",
                                    "1": "Lee, Frank",
                                    "2": "61",
                                    "3": "Product XYZPE",
                                    "4": "855,0000"
                                },
                                {
                                    "0": "38",
                                    "1": "Lee, Frank",
                                    "2": "8",
                                    "3": "Product WVJFP",
                                    "4": "800,0000"
                                },
                                {
                                    "0": "38",
                                    "1": "Lee, Frank",
                                    "2": "60",
                                    "3": "Product WHBYK",
                                    "4": "714,0000"
                                },
                                {
                                    "0": "39",
                                    "1": "Song, Lolan",
                                    "2": "38",
                                    "3": "Product QDOMO",
                                    "4": "7905,0000"
                                },
                                {
                                    "0": "39",
                                    "1": "Song, Lolan",
                                    "2": "59",
                                    "3": "Product UKXRI",
                                    "4": "4279,0000"
                                },
                                {
                                    "0": "39",
                                    "1": "Song, Lolan",
                                    "2": "29",
                                    "3": "Product VJXYN",
                                    "4": "2970,9600"
                                },
                                {
                                    "0": "40",
                                    "1": "De Oliveira, Jose",
                                    "2": "27",
                                    "3": "Product SMIOH",
                                    "4": "439,0000"
                                },
                                {
                                    "0": "40",
                                    "1": "De Oliveira, Jose",
                                    "2": "20",
                                    "3": "Product QHFFP",
                                    "4": "405,0000"
                                },
                                {
                                    "0": "40",
                                    "1": "De Oliveira, Jose",
                                    "2": "76",
                                    "3": "Product JYGFE",
                                    "4": "360,0000"
                                },
                                {
                                    "0": "41",
                                    "1": "Litton, Tim",
                                    "2": "29",
                                    "3": "Product VJXYN",
                                    "4": "2475,8000"
                                },
                                {
                                    "0": "41",
                                    "1": "Litton, Tim",
                                    "2": "62",
                                    "3": "Product WUXYK",
                                    "4": "1576,0000"
                                },
                                {
                                    "0": "41",
                                    "1": "Litton, Tim",
                                    "2": "69",
                                    "3": "Product COAXA",
                                    "4": "806,4000"
                                },
                                {
                                    "0": "42",
                                    "1": "Steiner, Dominik",
                                    "2": "41",
                                    "3": "Product TTEEX",
                                    "4": "154,0000"
                                },
                                {
                                    "0": "42",
                                    "1": "Steiner, Dominik",
                                    "2": "70",
                                    "3": "Product TOONT",
                                    "4": "75,0000"
                                },
                                {
                                    "0": "42",
                                    "1": "Steiner, Dominik",
                                    "2": "23",
                                    "3": "Product JLUDZ",
                                    "4": "72,0000"
                                },
                                {
                                    "0": "43",
                                    "1": "Deshpande, Anu",
                                    "2": "11",
                                    "3": "Product QMVUN",
                                    "4": "210,0000"
                                },
                                {
                                    "0": "43",
                                    "1": "Deshpande, Anu",
                                    "2": "40",
                                    "3": "Product YZIXQ",
                                    "4": "147,0000"
                                },
                                {
                                    "0": "44",
                                    "1": "Louverdis, George",
                                    "2": "64",
                                    "3": "Product HCQDE",
                                    "4": "2327,5000"
                                },
                                {
                                    "0": "44",
                                    "1": "Louverdis, George",
                                    "2": "29",
                                    "3": "Product VJXYN",
                                    "4": "2228,2200"
                                },
                                {
                                    "0": "44",
                                    "1": "Louverdis, George",
                                    "2": "60",
                                    "3": "Product WHBYK",
                                    "4": "1734,0000"
                                },
                                {
                                    "0": "45",
                                    "1": "Sunkammurali,  Krishna",
                                    "2": "56",
                                    "3": "Product VKCMF",
                                    "4": "798,0000"
                                },
                                {
                                    "0": "45",
                                    "1": "Sunkammurali,  Krishna",
                                    "2": "18",
                                    "3": "Product CKEDC",
                                    "4": "750,0000"
                                },
                                {
                                    "0": "45",
                                    "1": "Sunkammurali,  Krishna",
                                    "2": "61",
                                    "3": "Product XYZPE",
                                    "4": "570,0000"
                                },
                                {
                                    "0": "46",
                                    "1": "Dressler, Marlies",
                                    "2": "59",
                                    "3": "Product UKXRI",
                                    "4": "2200,0000"
                                },
                                {
                                    "0": "46",
                                    "1": "Dressler, Marlies",
                                    "2": "26",
                                    "3": "Product HLGZA",
                                    "4": "1643,4000"
                                },
                                {
                                    "0": "46",
                                    "1": "Dressler, Marlies",
                                    "2": "32",
                                    "3": "Product NUNAW",
                                    "4": "1600,0000"
                                },
                                {
                                    "0": "47",
                                    "1": "Lupu, Cornel",
                                    "2": "72",
                                    "3": "Product GEEOO",
                                    "4": "2088,0000"
                                },
                                {
                                    "0": "47",
                                    "1": "Lupu, Cornel",
                                    "2": "18",
                                    "3": "Product CKEDC",
                                    "4": "1562,5000"
                                },
                                {
                                    "0": "47",
                                    "1": "Lupu, Cornel",
                                    "2": "49",
                                    "3": "Product FPYPN",
                                    "4": "1200,0000"
                                },
                                {
                                    "0": "48",
                                    "1": "Szymczak, Radosław",
                                    "2": "51",
                                    "3": "Product APITJ",
                                    "4": "1060,0000"
                                },
                                {
                                    "0": "48",
                                    "1": "Szymczak, Radosław",
                                    "2": "12",
                                    "3": "Product OSFNS",
                                    "4": "760,0000"
                                },
                                {
                                    "0": "48",
                                    "1": "Szymczak, Radosław",
                                    "2": "18",
                                    "3": "Product CKEDC",
                                    "4": "625,0000"
                                },
                                {
                                    "0": "49",
                                    "1": "Duerr, Bernard",
                                    "2": "72",
                                    "3": "Product GEEOO",
                                    "4": "1044,0000"
                                },
                                {
                                    "0": "49",
                                    "1": "Duerr, Bernard",
                                    "2": "22",
                                    "3": "Product CPHFY",
                                    "4": "840,0000"
                                },
                                {
                                    "0": "49",
                                    "1": "Duerr, Bernard",
                                    "2": "26",
                                    "3": "Product HLGZA",
                                    "4": "747,0000"
                                },
                                {
                                    "0": "50",
                                    "1": "Mace, Donald",
                                    "2": "59",
                                    "3": "Product UKXRI",
                                    "4": "2200,0000"
                                },
                                {
                                    "0": "50",
                                    "1": "Mace, Donald",
                                    "2": "27",
                                    "3": "Product SMIOH",
                                    "4": "1756,0000"
                                },
                                {
                                    "0": "50",
                                    "1": "Mace, Donald",
                                    "2": "43",
                                    "3": "Product ZZZHR",
                                    "4": "1380,0000"
                                },
                                {
                                    "0": "51",
                                    "1": "Taylor, Maurice",
                                    "2": "38",
                                    "3": "Product QDOMO",
                                    "4": "10329,2000"
                                },
                                {
                                    "0": "51",
                                    "1": "Taylor, Maurice",
                                    "2": "56",
                                    "3": "Product VKCMF",
                                    "4": "3040,0000"
                                },
                                {
                                    "0": "51",
                                    "1": "Taylor, Maurice",
                                    "2": "60",
                                    "3": "Product WHBYK",
                                    "4": "2380,0000"
                                },
                                {
                                    "0": "52",
                                    "1": "Dupont-Roc, Patrice",
                                    "2": "62",
                                    "3": "Product WUXYK",
                                    "4": "1458,8000"
                                },
                                {
                                    "0": "52",
                                    "1": "Dupont-Roc, Patrice",
                                    "2": "72",
                                    "3": "Product GEEOO",
                                    "4": "1044,0000"
                                },
                                {
                                    "0": "52",
                                    "1": "Dupont-Roc, Patrice",
                                    "2": "28",
                                    "3": "Product OFBNT",
                                    "4": "728,0000"
                                },
                                {
                                    "0": "53",
                                    "1": "Mallit, Ken",
                                    "2": "59",
                                    "3": "Product UKXRI",
                                    "4": "220,0000"
                                },
                                {
                                    "0": "53",
                                    "1": "Mallit, Ken",
                                    "2": "1",
                                    "3": "Product HHYDP",
                                    "4": "144,0000"
                                },
                                {
                                    "0": "53",
                                    "1": "Mallit, Ken",
                                    "2": "70",
                                    "3": "Product TOONT",
                                    "4": "135,0000"
                                },
                                {
                                    "0": "54",
                                    "1": "Tiano, Mike",
                                    "2": "20",
                                    "3": "Product QHFFP",
                                    "4": "1215,0000"
                                },
                                {
                                    "0": "54",
                                    "1": "Tiano, Mike",
                                    "2": "11",
                                    "3": "Product QMVUN",
                                    "4": "630,0000"
                                },
                                {
                                    "0": "54",
                                    "1": "Tiano, Mike",
                                    "2": "5",
                                    "3": "Product EPEIM",
                                    "4": "427,0000"
                                },
                                {
                                    "0": "55",
                                    "1": "Egelund-Muller, Anja",
                                    "2": "29",
                                    "3": "Product VJXYN",
                                    "4": "2475,0000"
                                },
                                {
                                    "0": "55",
                                    "1": "Egelund-Muller, Anja",
                                    "2": "16",
                                    "3": "Product PAFRH",
                                    "4": "2094,0000"
                                },
                                {
                                    "0": "55",
                                    "1": "Egelund-Muller, Anja",
                                    "2": "27",
                                    "3": "Product SMIOH",
                                    "4": "1755,0000"
                                },
                                {
                                    "0": "56",
                                    "1": "Marinova, Nadejda",
                                    "2": "7",
                                    "3": "Product HMLNI",
                                    "4": "1650,0000"
                                },
                                {
                                    "0": "56",
                                    "1": "Marinova, Nadejda",
                                    "2": "62",
                                    "3": "Product WUXYK",
                                    "4": "1577,0000"
                                },
                                {
                                    "0": "56",
                                    "1": "Marinova, Nadejda",
                                    "2": "60",
                                    "3": "Product WHBYK",
                                    "4": "1020,0000"
                                },
                                {
                                    "0": "58",
                                    "1": "Fakhouri, Fadi",
                                    "2": "51",
                                    "3": "Product APITJ",
                                    "4": "1060,0000"
                                },
                                {
                                    "0": "58",
                                    "1": "Fakhouri, Fadi",
                                    "2": "28",
                                    "3": "Product OFBNT",
                                    "4": "655,2000"
                                },
                                {
                                    "0": "58",
                                    "1": "Fakhouri, Fadi",
                                    "2": "67",
                                    "3": "Product XLXQF",
                                    "4": "420,0000"
                                },
                                {
                                    "0": "59",
                                    "1": "Meston, Tosh",
                                    "2": "38",
                                    "3": "Product QDOMO",
                                    "4": "10540,0000"
                                },
                                {
                                    "0": "59",
                                    "1": "Meston, Tosh",
                                    "2": "17",
                                    "3": "Product BLCAX",
                                    "4": "2730,0000"
                                },
                                {
                                    "0": "59",
                                    "1": "Meston, Tosh",
                                    "2": "69",
                                    "3": "Product COAXA",
                                    "4": "2520,0000"
                                },
                                {
                                    "0": "60",
                                    "1": "Uppal, Sunil",
                                    "2": "29",
                                    "3": "Product VJXYN",
                                    "4": "1237,9000"
                                },
                                {
                                    "0": "60",
                                    "1": "Uppal, Sunil",
                                    "2": "8",
                                    "3": "Product WVJFP",
                                    "4": "1200,0000"
                                },
                                {
                                    "0": "60",
                                    "1": "Uppal, Sunil",
                                    "2": "56",
                                    "3": "Product VKCMF",
                                    "4": "851,2000"
                                },
                                {
                                    "0": "61",
                                    "1": "Florczyk, Krzysztof",
                                    "2": "35",
                                    "3": "Product NEVTJ",
                                    "4": "1026,0000"
                                },
                                {
                                    "0": "61",
                                    "1": "Florczyk, Krzysztof",
                                    "2": "6",
                                    "3": "Product VAIIV",
                                    "4": "1000,0000"
                                },
                                {
                                    "0": "61",
                                    "1": "Florczyk, Krzysztof",
                                    "2": "26",
                                    "3": "Product HLGZA",
                                    "4": "934,3800"
                                },
                                {
                                    "0": "62",
                                    "1": "Misiec, Anna",
                                    "2": "38",
                                    "3": "Product QDOMO",
                                    "4": "8432,0000"
                                },
                                {
                                    "0": "62",
                                    "1": "Misiec, Anna",
                                    "2": "60",
                                    "3": "Product WHBYK",
                                    "4": "2414,0000"
                                },
                                {
                                    "0": "62",
                                    "1": "Misiec, Anna",
                                    "2": "56",
                                    "3": "Product VKCMF",
                                    "4": "2280,0000"
                                },
                                {
                                    "0": "63",
                                    "1": "Veronesi, Giorgio",
                                    "2": "38",
                                    "3": "Product QDOMO",
                                    "4": "23715,0000"
                                },
                                {
                                    "0": "63",
                                    "1": "Veronesi, Giorgio",
                                    "2": "60",
                                    "3": "Product WHBYK",
                                    "4": "7888,0000"
                                },
                                {
                                    "0": "63",
                                    "1": "Veronesi, Giorgio",
                                    "2": "27",
                                    "3": "Product SMIOH",
                                    "4": "5268,0000"
                                },
                                {
                                    "0": "64",
                                    "1": "Gaffney, Lawrie",
                                    "2": "38",
                                    "3": "Product QDOMO",
                                    "4": "527,0000"
                                },
                                {
                                    "0": "64",
                                    "1": "Gaffney, Lawrie",
                                    "2": "20",
                                    "3": "Product QHFFP",
                                    "4": "405,0000"
                                },
                                {
                                    "0": "64",
                                    "1": "Gaffney, Lawrie",
                                    "2": "57",
                                    "3": "Product OVLQI",
                                    "4": "390,0000"
                                },
                                {
                                    "0": "65",
                                    "1": "Moore, Michael",
                                    "2": "38",
                                    "3": "Product QDOMO",
                                    "4": "16864,0000"
                                },
                                {
                                    "0": "65",
                                    "1": "Moore, Michael",
                                    "2": "62",
                                    "3": "Product WUXYK",
                                    "4": "8180,0000"
                                },
                                {
                                    "0": "65",
                                    "1": "Moore, Michael",
                                    "2": "56",
                                    "3": "Product VKCMF",
                                    "4": "3936,8000"
                                },
                                {
                                    "0": "66",
                                    "1": "Voss, Florian",
                                    "2": "72",
                                    "3": "Product GEEOO",
                                    "4": "1392,0000"
                                },
                                {
                                    "0": "66",
                                    "1": "Voss, Florian",
                                    "2": "7",
                                    "3": "Product HMLNI",
                                    "4": "1200,0000"
                                },
                                {
                                    "0": "66",
                                    "1": "Voss, Florian",
                                    "2": "17",
                                    "3": "Product BLCAX",
                                    "4": "780,0000"
                                },
                                {
                                    "0": "67",
                                    "1": "Garden, Euan",
                                    "2": "59",
                                    "3": "Product UKXRI",
                                    "4": "2310,0000"
                                },
                                {
                                    "0": "67",
                                    "1": "Garden, Euan",
                                    "2": "60",
                                    "3": "Product WHBYK",
                                    "4": "2278,0000"
                                },
                                {
                                    "0": "67",
                                    "1": "Garden, Euan",
                                    "2": "18",
                                    "3": "Product CKEDC",
                                    "4": "1562,5000"
                                },
                                {
                                    "0": "68",
                                    "1": "Myrcha, Jacek",
                                    "2": "29",
                                    "3": "Product VJXYN",
                                    "4": "4456,4400"
                                },
                                {
                                    "0": "68",
                                    "1": "Myrcha, Jacek",
                                    "2": "53",
                                    "3": "Product BKGEA",
                                    "4": "2296,0000"
                                },
                                {
                                    "0": "68",
                                    "1": "Myrcha, Jacek",
                                    "2": "69",
                                    "3": "Product COAXA",
                                    "4": "1872,0000"
                                },
                                {
                                    "0": "69",
                                    "1": "Watters, Jason M.",
                                    "2": "30",
                                    "3": "Product LYERX",
                                    "4": "357,0900"
                                },
                                {
                                    "0": "69",
                                    "1": "Watters, Jason M.",
                                    "2": "60",
                                    "3": "Product WHBYK",
                                    "4": "340,0000"
                                },
                                {
                                    "0": "69",
                                    "1": "Watters, Jason M.",
                                    "2": "53",
                                    "3": "Product BKGEA",
                                    "4": "262,0000"
                                },
                                {
                                    "0": "70",
                                    "1": "Ginters, Kaspars",
                                    "2": "38",
                                    "3": "Product QDOMO",
                                    "4": "2108,0000"
                                },
                                {
                                    "0": "70",
                                    "1": "Ginters, Kaspars",
                                    "2": "59",
                                    "3": "Product UKXRI",
                                    "4": "528,0000"
                                },
                                {
                                    "0": "70",
                                    "1": "Ginters, Kaspars",
                                    "2": "18",
                                    "3": "Product CKEDC",
                                    "4": "500,0000"
                                },
                                {
                                    "0": "71",
                                    "1": "Navarro, Tomás",
                                    "2": "29",
                                    "3": "Product VJXYN",
                                    "4": "14259,8400"
                                },
                                {
                                    "0": "71",
                                    "1": "Navarro, Tomás",
                                    "2": "17",
                                    "3": "Product BLCAX",
                                    "4": "7956,0000"
                                },
                                {
                                    "0": "71",
                                    "1": "Navarro, Tomás",
                                    "2": "59",
                                    "3": "Product UKXRI",
                                    "4": "7645,0000"
                                },
                                {
                                    "0": "72",
                                    "1": "Welcker, Brian",
                                    "2": "60",
                                    "3": "Product WHBYK",
                                    "4": "2176,0000"
                                },
                                {
                                    "0": "72",
                                    "1": "Welcker, Brian",
                                    "2": "28",
                                    "3": "Product OFBNT",
                                    "4": "1822,4000"
                                },
                                {
                                    "0": "72",
                                    "1": "Welcker, Brian",
                                    "2": "51",
                                    "3": "Product APITJ",
                                    "4": "1293,2000"
                                },
                                {
                                    "0": "73",
                                    "1": "Gonzalez, Nuria",
                                    "2": "38",
                                    "3": "Product QDOMO",
                                    "4": "10540,0000"
                                },
                                {
                                    "0": "73",
                                    "1": "Gonzalez, Nuria",
                                    "2": "51",
                                    "3": "Product APITJ",
                                    "4": "1590,0000"
                                },
                                {
                                    "0": "73",
                                    "1": "Gonzalez, Nuria",
                                    "2": "55",
                                    "3": "Product YYWRT",
                                    "4": "1440,0000"
                                },
                                {
                                    "0": "74",
                                    "1": "O’Brien, Dave",
                                    "2": "38",
                                    "3": "Product QDOMO",
                                    "4": "1317,5000"
                                },
                                {
                                    "0": "74",
                                    "1": "O’Brien, Dave",
                                    "2": "18",
                                    "3": "Product CKEDC",
                                    "4": "375,0000"
                                },
                                {
                                    "0": "74",
                                    "1": "O’Brien, Dave",
                                    "2": "69",
                                    "3": "Product COAXA",
                                    "4": "360,0000"
                                },
                                {
                                    "0": "75",
                                    "1": "Wojciechowska, Agnieszka",
                                    "2": "38",
                                    "3": "Product QDOMO",
                                    "4": "4216,0000"
                                },
                                {
                                    "0": "75",
                                    "1": "Wojciechowska, Agnieszka",
                                    "2": "29",
                                    "3": "Product VJXYN",
                                    "4": "1980,0000"
                                },
                                {
                                    "0": "75",
                                    "1": "Wojciechowska, Agnieszka",
                                    "2": "18",
                                    "3": "Product CKEDC",
                                    "4": "1312,5000"
                                },
                                {
                                    "0": "76",
                                    "1": "Gulbis, Katrin",
                                    "2": "59",
                                    "3": "Product UKXRI",
                                    "4": "2750,0000"
                                },
                                {
                                    "0": "76",
                                    "1": "Gulbis, Katrin",
                                    "2": "20",
                                    "3": "Product QHFFP",
                                    "4": "2592,0000"
                                },
                                {
                                    "0": "76",
                                    "1": "Gulbis, Katrin",
                                    "2": "28",
                                    "3": "Product OFBNT",
                                    "4": "2111,2000"
                                },
                                {
                                    "0": "77",
                                    "1": "Osorio, Cristian",
                                    "2": "38",
                                    "3": "Product QDOMO",
                                    "4": "2635,0000"
                                },
                                {
                                    "0": "77",
                                    "1": "Osorio, Cristian",
                                    "2": "62",
                                    "3": "Product WUXYK",
                                    "4": "197,0000"
                                },
                                {
                                    "0": "77",
                                    "1": "Osorio, Cristian",
                                    "2": "34",
                                    "3": "Product SWNJY",
                                    "4": "140,0000"
                                },
                                {
                                    "0": "78",
                                    "1": "Young, Robin",
                                    "2": "29",
                                    "3": "Product VJXYN",
                                    "4": "742,7400"
                                },
                                {
                                    "0": "78",
                                    "1": "Young, Robin",
                                    "2": "28",
                                    "3": "Product OFBNT",
                                    "4": "456,0000"
                                },
                                {
                                    "0": "78",
                                    "1": "Young, Robin",
                                    "2": "44",
                                    "3": "Product VJIEO",
                                    "4": "194,5000"
                                },
                                {
                                    "0": "79",
                                    "1": "Wickham, Jim",
                                    "2": "51",
                                    "3": "Product APITJ",
                                    "4": "1696,0000"
                                },
                                {
                                    "0": "79",
                                    "1": "Wickham, Jim",
                                    "2": "56",
                                    "3": "Product VKCMF",
                                    "4": "1064,0000"
                                },
                                {
                                    "0": "79",
                                    "1": "Wickham, Jim",
                                    "2": "49",
                                    "3": "Product FPYPN",
                                    "4": "800,0000"
                                },
                                {
                                    "0": "80",
                                    "1": "Geschwandtner, Jens",
                                    "2": "38",
                                    "3": "Product QDOMO",
                                    "4": "3952,5000"
                                },
                                {
                                    "0": "80",
                                    "1": "Geschwandtner, Jens",
                                    "2": "44",
                                    "3": "Product VJIEO",
                                    "4": "991,9500"
                                },
                                {
                                    "0": "80",
                                    "1": "Geschwandtner, Jens",
                                    "2": "17",
                                    "3": "Product BLCAX",
                                    "4": "639,6000"
                                },
                                {
                                    "0": "81",
                                    "1": "Nagel, Jean-Philippe",
                                    "2": "20",
                                    "3": "Product QHFFP",
                                    "4": "1296,0000"
                                },
                                {
                                    "0": "81",
                                    "1": "Nagel, Jean-Philippe",
                                    "2": "60",
                                    "3": "Product WHBYK",
                                    "4": "1020,0000"
                                },
                                {
                                    "0": "81",
                                    "1": "Nagel, Jean-Philippe",
                                    "2": "29",
                                    "3": "Product VJXYN",
                                    "4": "990,3200"
                                },
                                {
                                    "0": "82",
                                    "1": "Veninga, Tjeerd",
                                    "2": "62",
                                    "3": "Product WUXYK",
                                    "4": "640,9000"
                                },
                                {
                                    "0": "82",
                                    "1": "Veninga, Tjeerd",
                                    "2": "77",
                                    "3": "Product LUNZZ",
                                    "4": "234,0000"
                                },
                                {
                                    "0": "82",
                                    "1": "Veninga, Tjeerd",
                                    "2": "64",
                                    "3": "Product HCQDE",
                                    "4": "199,5000"
                                },
                                {
                                    "0": "83",
                                    "1": "Fonteneau, Karl",
                                    "2": "28",
                                    "3": "Product OFBNT",
                                    "4": "2736,0000"
                                },
                                {
                                    "0": "83",
                                    "1": "Fonteneau, Karl",
                                    "2": "29",
                                    "3": "Product VJXYN",
                                    "4": "1782,0000"
                                },
                                {
                                    "0": "83",
                                    "1": "Fonteneau, Karl",
                                    "2": "63",
                                    "3": "Product ICKNK",
                                    "4": "1756,0000"
                                },
                                {
                                    "0": "84",
                                    "1": "Tuntisangaroon, Sittichai",
                                    "2": "62",
                                    "3": "Product WUXYK",
                                    "4": "1972,0000"
                                },
                                {
                                    "0": "84",
                                    "1": "Tuntisangaroon, Sittichai",
                                    "2": "72",
                                    "3": "Product GEEOO",
                                    "4": "1112,0000"
                                },
                                {
                                    "0": "84",
                                    "1": "Tuntisangaroon, Sittichai",
                                    "2": "10",
                                    "3": "Product YHXGE",
                                    "4": "992,0000"
                                },
                                {
                                    "0": "85",
                                    "1": "McLin, Nkenge",
                                    "2": "72",
                                    "3": "Product GEEOO",
                                    "4": "368,6000"
                                },
                                {
                                    "0": "85",
                                    "1": "McLin, Nkenge",
                                    "2": "71",
                                    "3": "Product MYMOI",
                                    "4": "344,0000"
                                },
                                {
                                    "0": "85",
                                    "1": "McLin, Nkenge",
                                    "2": "11",
                                    "3": "Product QMVUN",
                                    "4": "168,0000"
                                },
                                {
                                    "0": "86",
                                    "1": "Syamala, Manoj",
                                    "2": "32",
                                    "3": "Product NUNAW",
                                    "4": "2080,0000"
                                },
                                {
                                    "0": "86",
                                    "1": "Syamala, Manoj",
                                    "2": "69",
                                    "3": "Product COAXA",
                                    "4": "1296,0000"
                                },
                                {
                                    "0": "86",
                                    "1": "Syamala, Manoj",
                                    "2": "43",
                                    "3": "Product ZZZHR",
                                    "4": "883,2000"
                                },
                                {
                                    "0": "87",
                                    "1": "Ludwig, Michael",
                                    "2": "53",
                                    "3": "Product BKGEA",
                                    "4": "1965,0000"
                                },
                                {
                                    "0": "87",
                                    "1": "Ludwig, Michael",
                                    "2": "56",
                                    "3": "Product VKCMF",
                                    "4": "1900,0000"
                                },
                                {
                                    "0": "87",
                                    "1": "Ludwig, Michael",
                                    "2": "71",
                                    "3": "Product MYMOI",
                                    "4": "1720,0000"
                                },
                                {
                                    "0": "88",
                                    "1": "Li, Yan",
                                    "2": "9",
                                    "3": "Product AOZBW",
                                    "4": "1552,0000"
                                },
                                {
                                    "0": "88",
                                    "1": "Li, Yan",
                                    "2": "43",
                                    "3": "Product ZZZHR",
                                    "4": "920,0000"
                                },
                                {
                                    "0": "88",
                                    "1": "Li, Yan",
                                    "2": "59",
                                    "3": "Product UKXRI",
                                    "4": "825,0000"
                                },
                                {
                                    "0": "89",
                                    "1": "Smith Jr., Ronaldo",
                                    "2": "38",
                                    "3": "Product QDOMO",
                                    "4": "6587,5000"
                                },
                                {
                                    "0": "89",
                                    "1": "Smith Jr., Ronaldo",
                                    "2": "17",
                                    "3": "Product BLCAX",
                                    "4": "2418,0000"
                                },
                                {
                                    "0": "89",
                                    "1": "Smith Jr., Ronaldo",
                                    "2": "8",
                                    "3": "Product WVJFP",
                                    "4": "2240,0000"
                                },
                                {
                                    "0": "90",
                                    "1": "Larsson, Katarina",
                                    "2": "59",
                                    "3": "Product UKXRI",
                                    "4": "550,0000"
                                },
                                {
                                    "0": "90",
                                    "1": "Larsson, Katarina",
                                    "2": "8",
                                    "3": "Product WVJFP",
                                    "4": "400,0000"
                                },
                                {
                                    "0": "90",
                                    "1": "Larsson, Katarina",
                                    "2": "43",
                                    "3": "Product ZZZHR",
                                    "4": "276,0000"
                                },
                                {
                                    "0": "91",
                                    "1": "Conn, Steve",
                                    "2": "61",
                                    "3": "Product XYZPE",
                                    "4": "627,0000"
                                },
                                {
                                    "0": "91",
                                    "1": "Conn, Steve",
                                    "2": "62",
                                    "3": "Product WUXYK",
                                    "4": "591,6000"
                                },
                                {
                                    "0": "91",
                                    "1": "Conn, Steve",
                                    "2": "60",
                                    "3": "Product WHBYK",
                                    "4": "510,0000"
                                }
                            ]
                        },
                        "text/html": "<table><tr><th>custid</th><th>contactname</th><th>productid</th><th>productname</th><th>totalsalesamount</th></tr><tr><td>1</td><td>Allen, Michael</td><td>63</td><td>Product ICKNK</td><td>878,0000</td></tr><tr><td>1</td><td>Allen, Michael</td><td>59</td><td>Product UKXRI</td><td>825,0000</td></tr><tr><td>1</td><td>Allen, Michael</td><td>28</td><td>Product OFBNT</td><td>775,2000</td></tr><tr><td>2</td><td>Hassall, Mark</td><td>72</td><td>Product GEEOO</td><td>348,0000</td></tr><tr><td>2</td><td>Hassall, Mark</td><td>60</td><td>Product WHBYK</td><td>340,0000</td></tr><tr><td>2</td><td>Hassall, Mark</td><td>32</td><td>Product NUNAW</td><td>320,0000</td></tr><tr><td>3</td><td>Peoples, John</td><td>11</td><td>Product QMVUN</td><td>1453,2000</td></tr><tr><td>3</td><td>Peoples, John</td><td>26</td><td>Product HLGZA</td><td>936,9000</td></tr><tr><td>3</td><td>Peoples, John</td><td>59</td><td>Product UKXRI</td><td>825,0000</td></tr><tr><td>4</td><td>Arndt, Torsten</td><td>20</td><td>Product QHFFP</td><td>4050,0000</td></tr><tr><td>4</td><td>Arndt, Torsten</td><td>31</td><td>Product XWOXC</td><td>1437,5000</td></tr><tr><td>4</td><td>Arndt, Torsten</td><td>57</td><td>Product OVLQI</td><td>1170,0000</td></tr><tr><td>5</td><td>Higginbotham, Tom</td><td>38</td><td>Product QDOMO</td><td>3952,5000</td></tr><tr><td>5</td><td>Higginbotham, Tom</td><td>43</td><td>Product ZZZHR</td><td>2760,0000</td></tr><tr><td>5</td><td>Higginbotham, Tom</td><td>28</td><td>Product OFBNT</td><td>2280,0000</td></tr><tr><td>6</td><td>Poland, Carole</td><td>60</td><td>Product WHBYK</td><td>714,0000</td></tr><tr><td>6</td><td>Poland, Carole</td><td>18</td><td>Product CKEDC</td><td>625,0000</td></tr><tr><td>6</td><td>Poland, Carole</td><td>51</td><td>Product APITJ</td><td>424,0000</td></tr><tr><td>7</td><td>Bansal, Dushyant</td><td>29</td><td>Product VJXYN</td><td>3465,0000</td></tr><tr><td>7</td><td>Bansal, Dushyant</td><td>38</td><td>Product QDOMO</td><td>2108,0000</td></tr><tr><td>7</td><td>Bansal, Dushyant</td><td>62</td><td>Product WUXYK</td><td>1379,0000</td></tr><tr><td>8</td><td>Ilyina, Julia</td><td>29</td><td>Product VJXYN</td><td>2475,8000</td></tr><tr><td>8</td><td>Ilyina, Julia</td><td>17</td><td>Product BLCAX</td><td>1560,0000</td></tr><tr><td>8</td><td>Ilyina, Julia</td><td>4</td><td>Product KSBRM</td><td>422,4000</td></tr><tr><td>9</td><td>Raghav, Amritansh</td><td>18</td><td>Product CKEDC</td><td>2500,0000</td></tr><tr><td>9</td><td>Raghav, Amritansh</td><td>51</td><td>Product APITJ</td><td>1908,0000</td></tr><tr><td>9</td><td>Raghav, Amritansh</td><td>6</td><td>Product VAIIV</td><td>1750,0000</td></tr><tr><td>10</td><td>Bassols, Pilar Colome</td><td>62</td><td>Product WUXYK</td><td>4781,3000</td></tr><tr><td>10</td><td>Bassols, Pilar Colome</td><td>60</td><td>Product WHBYK</td><td>2550,0000</td></tr><tr><td>10</td><td>Bassols, Pilar Colome</td><td>17</td><td>Product BLCAX</td><td>1794,0000</td></tr><tr><td>11</td><td>Jaffe, David</td><td>43</td><td>Product ZZZHR</td><td>1380,0000</td></tr><tr><td>11</td><td>Jaffe, David</td><td>7</td><td>Product HMLNI</td><td>840,0000</td></tr><tr><td>11</td><td>Jaffe, David</td><td>56</td><td>Product VKCMF</td><td>608,0000</td></tr><tr><td>12</td><td>Ray, Mike</td><td>28</td><td>Product OFBNT</td><td>364,8000</td></tr><tr><td>12</td><td>Ray, Mike</td><td>43</td><td>Product ZZZHR</td><td>322,0000</td></tr><tr><td>12</td><td>Ray, Mike</td><td>67</td><td>Product XLXQF</td><td>280,0000</td></tr><tr><td>13</td><td>Benito, Almudena</td><td>21</td><td>Product VJZZH</td><td>80,0000</td></tr><tr><td>13</td><td>Benito, Almudena</td><td>37</td><td>Product EVFFA</td><td>20,8000</td></tr><tr><td>14</td><td>Jelitto, Jacek</td><td>56</td><td>Product VKCMF</td><td>2736,0000</td></tr><tr><td>14</td><td>Jelitto, Jacek</td><td>63</td><td>Product ICKNK</td><td>1843,8000</td></tr><tr><td>14</td><td>Jelitto, Jacek</td><td>51</td><td>Product APITJ</td><td>1590,0000</td></tr><tr><td>15</td><td>Richardson, Shawn</td><td>29</td><td>Product VJXYN</td><td>1485,0000</td></tr><tr><td>15</td><td>Richardson, Shawn</td><td>56</td><td>Product VKCMF</td><td>912,0000</td></tr><tr><td>15</td><td>Richardson, Shawn</td><td>5</td><td>Product EPEIM</td><td>340,0000</td></tr><tr><td>16</td><td>Birkby, Dana</td><td>5</td><td>Product EPEIM</td><td>640,5000</td></tr><tr><td>16</td><td>Birkby, Dana</td><td>9</td><td>Product AOZBW</td><td>291,0000</td></tr><tr><td>16</td><td>Birkby, Dana</td><td>72</td><td>Product GEEOO</td><td>278,0000</td></tr><tr><td>17</td><td>Jones, TiAnna</td><td>59</td><td>Product UKXRI</td><td>1650,0000</td></tr><tr><td>17</td><td>Jones, TiAnna</td><td>53</td><td>Product BKGEA</td><td>656,0000</td></tr><tr><td>17</td><td>Jones, TiAnna</td><td>11</td><td>Product QMVUN</td><td>420,0000</td></tr><tr><td>18</td><td>Rizaldy, Arif</td><td>17</td><td>Product BLCAX</td><td>585,0000</td></tr><tr><td>18</td><td>Rizaldy, Arif</td><td>10</td><td>Product YHXGE</td><td>310,0000</td></tr><tr><td>18</td><td>Rizaldy, Arif</td><td>69</td><td>Product COAXA</td><td>201,6000</td></tr><tr><td>19</td><td>Boseman, Randall</td><td>7</td><td>Product HMLNI</td><td>3000,0000</td></tr><tr><td>19</td><td>Boseman, Randall</td><td>29</td><td>Product VJXYN</td><td>2079,0000</td></tr><tr><td>19</td><td>Boseman, Randall</td><td>60</td><td>Product WHBYK</td><td>1700,0000</td></tr><tr><td>20</td><td>Kane, John</td><td>59</td><td>Product UKXRI</td><td>9130,0000</td></tr><tr><td>20</td><td>Kane, John</td><td>64</td><td>Product HCQDE</td><td>6384,0000</td></tr><tr><td>20</td><td>Kane, John</td><td>51</td><td>Product APITJ</td><td>6360,0000</td></tr><tr><td>21</td><td>Russo, Giuseppe</td><td>53</td><td>Product BKGEA</td><td>820,0000</td></tr><tr><td>21</td><td>Russo, Giuseppe</td><td>30</td><td>Product LYERX</td><td>776,7000</td></tr><tr><td>21</td><td>Russo, Giuseppe</td><td>39</td><td>Product LSOFL</td><td>720,0000</td></tr><tr><td>23</td><td>Khanna, Karan</td><td>18</td><td>Product CKEDC</td><td>5000,0000</td></tr><tr><td>23</td><td>Khanna, Karan</td><td>62</td><td>Product WUXYK</td><td>1379,0000</td></tr><tr><td>23</td><td>Khanna, Karan</td><td>63</td><td>Product ICKNK</td><td>1317,0000</td></tr><tr><td>24</td><td>San Juan, Patricia</td><td>29</td><td>Product VJXYN</td><td>6189,5000</td></tr><tr><td>24</td><td>San Juan, Patricia</td><td>51</td><td>Product APITJ</td><td>4664,0000</td></tr><tr><td>24</td><td>San Juan, Patricia</td><td>56</td><td>Product VKCMF</td><td>2280,0000</td></tr><tr><td>25</td><td>Carlson, Jason</td><td>59</td><td>Product UKXRI</td><td>4400,0000</td></tr><tr><td>25</td><td>Carlson, Jason</td><td>71</td><td>Product MYMOI</td><td>2322,0000</td></tr><tr><td>25</td><td>Carlson, Jason</td><td>60</td><td>Product WHBYK</td><td>1904,0000</td></tr><tr><td>26</td><td>Koch, Paul</td><td>29</td><td>Product VJXYN</td><td>1733,0600</td></tr><tr><td>26</td><td>Koch, Paul</td><td>62</td><td>Product WUXYK</td><td>493,0000</td></tr><tr><td>26</td><td>Koch, Paul</td><td>76</td><td>Product JYGFE</td><td>360,0000</td></tr><tr><td>27</td><td>Schmöllerl, Martin</td><td>51</td><td>Product APITJ</td><td>530,0000</td></tr><tr><td>27</td><td>Schmöllerl, Martin</td><td>18</td><td>Product CKEDC</td><td>500,0000</td></tr><tr><td>27</td><td>Schmöllerl, Martin</td><td>60</td><td>Product WHBYK</td><td>136,0000</td></tr><tr><td>28</td><td>Cavaglieri, Giorgio</td><td>56</td><td>Product VKCMF</td><td>1368,0000</td></tr><tr><td>28</td><td>Cavaglieri, Giorgio</td><td>44</td><td>Product VJIEO</td><td>1010,5000</td></tr><tr><td>28</td><td>Cavaglieri, Giorgio</td><td>65</td><td>Product XYWBZ</td><td>987,7500</td></tr><tr><td>29</td><td>Kolesnikova, Katerina</td><td>64</td><td>Product HCQDE</td><td>186,2000</td></tr><tr><td>29</td><td>Kolesnikova, Katerina</td><td>10</td><td>Product YHXGE</td><td>155,0000</td></tr><tr><td>29</td><td>Kolesnikova, Katerina</td><td>56</td><td>Product VKCMF</td><td>152,0000</td></tr><tr><td>30</td><td>Shabalin, Rostislav</td><td>29</td><td>Product VJXYN</td><td>2475,8000</td></tr><tr><td>30</td><td>Shabalin, Rostislav</td><td>51</td><td>Product APITJ</td><td>2120,0000</td></tr><tr><td>30</td><td>Shabalin, Rostislav</td><td>62</td><td>Product WUXYK</td><td>986,0000</td></tr><tr><td>31</td><td>Cheng, Yao-Qiang</td><td>8</td><td>Product WVJFP</td><td>1600,0000</td></tr><tr><td>31</td><td>Cheng, Yao-Qiang</td><td>51</td><td>Product APITJ</td><td>1484,0000</td></tr><tr><td>31</td><td>Cheng, Yao-Qiang</td><td>59</td><td>Product UKXRI</td><td>880,0000</td></tr><tr><td>32</td><td>Krishnan, Venky</td><td>38</td><td>Product QDOMO</td><td>11857,5000</td></tr><tr><td>32</td><td>Krishnan, Venky</td><td>59</td><td>Product UKXRI</td><td>1650,0000</td></tr><tr><td>32</td><td>Krishnan, Venky</td><td>62</td><td>Product WUXYK</td><td>986,0000</td></tr><tr><td>33</td><td>Sigurdarson, Hallur </td><td>29</td><td>Product VJXYN</td><td>990,0000</td></tr><tr><td>33</td><td>Sigurdarson, Hallur </td><td>10</td><td>Product YHXGE</td><td>310,0000</td></tr><tr><td>33</td><td>Sigurdarson, Hallur </td><td>72</td><td>Product GEEOO</td><td>111,2000</td></tr><tr><td>34</td><td>Cohen, Shy</td><td>38</td><td>Product QDOMO</td><td>18181,5000</td></tr><tr><td>34</td><td>Cohen, Shy</td><td>10</td><td>Product YHXGE</td><td>2170,0000</td></tr><tr><td>34</td><td>Cohen, Shy</td><td>51</td><td>Product APITJ</td><td>1484,0000</td></tr><tr><td>35</td><td>Langohr, Kris</td><td>59</td><td>Product UKXRI</td><td>4565,0000</td></tr><tr><td>35</td><td>Langohr, Kris</td><td>51</td><td>Product APITJ</td><td>2120,0000</td></tr><tr><td>35</td><td>Langohr, Kris</td><td>53</td><td>Product BKGEA</td><td>1834,0000</td></tr><tr><td>36</td><td>Smith, Denise</td><td>20</td><td>Product QHFFP</td><td>1701,0000</td></tr><tr><td>36</td><td>Smith, Denise</td><td>73</td><td>Product WEUJZ</td><td>450,0000</td></tr><tr><td>36</td><td>Smith, Denise</td><td>62</td><td>Product WUXYK</td><td>394,0000</td></tr><tr><td>37</td><td>Crăciun, Ovidiu V.</td><td>29</td><td>Product VJXYN</td><td>18568,5000</td></tr><tr><td>37</td><td>Crăciun, Ovidiu V.</td><td>59</td><td>Product UKXRI</td><td>5830,0000</td></tr><tr><td>37</td><td>Crăciun, Ovidiu V.</td><td>9</td><td>Product AOZBW</td><td>4850,0000</td></tr><tr><td>38</td><td>Lee, Frank</td><td>61</td><td>Product XYZPE</td><td>855,0000</td></tr><tr><td>38</td><td>Lee, Frank</td><td>8</td><td>Product WVJFP</td><td>800,0000</td></tr><tr><td>38</td><td>Lee, Frank</td><td>60</td><td>Product WHBYK</td><td>714,0000</td></tr><tr><td>39</td><td>Song, Lolan</td><td>38</td><td>Product QDOMO</td><td>7905,0000</td></tr><tr><td>39</td><td>Song, Lolan</td><td>59</td><td>Product UKXRI</td><td>4279,0000</td></tr><tr><td>39</td><td>Song, Lolan</td><td>29</td><td>Product VJXYN</td><td>2970,9600</td></tr><tr><td>40</td><td>De Oliveira, Jose</td><td>27</td><td>Product SMIOH</td><td>439,0000</td></tr><tr><td>40</td><td>De Oliveira, Jose</td><td>20</td><td>Product QHFFP</td><td>405,0000</td></tr><tr><td>40</td><td>De Oliveira, Jose</td><td>76</td><td>Product JYGFE</td><td>360,0000</td></tr><tr><td>41</td><td>Litton, Tim</td><td>29</td><td>Product VJXYN</td><td>2475,8000</td></tr><tr><td>41</td><td>Litton, Tim</td><td>62</td><td>Product WUXYK</td><td>1576,0000</td></tr><tr><td>41</td><td>Litton, Tim</td><td>69</td><td>Product COAXA</td><td>806,4000</td></tr><tr><td>42</td><td>Steiner, Dominik</td><td>41</td><td>Product TTEEX</td><td>154,0000</td></tr><tr><td>42</td><td>Steiner, Dominik</td><td>70</td><td>Product TOONT</td><td>75,0000</td></tr><tr><td>42</td><td>Steiner, Dominik</td><td>23</td><td>Product JLUDZ</td><td>72,0000</td></tr><tr><td>43</td><td>Deshpande, Anu</td><td>11</td><td>Product QMVUN</td><td>210,0000</td></tr><tr><td>43</td><td>Deshpande, Anu</td><td>40</td><td>Product YZIXQ</td><td>147,0000</td></tr><tr><td>44</td><td>Louverdis, George</td><td>64</td><td>Product HCQDE</td><td>2327,5000</td></tr><tr><td>44</td><td>Louverdis, George</td><td>29</td><td>Product VJXYN</td><td>2228,2200</td></tr><tr><td>44</td><td>Louverdis, George</td><td>60</td><td>Product WHBYK</td><td>1734,0000</td></tr><tr><td>45</td><td>Sunkammurali,  Krishna</td><td>56</td><td>Product VKCMF</td><td>798,0000</td></tr><tr><td>45</td><td>Sunkammurali,  Krishna</td><td>18</td><td>Product CKEDC</td><td>750,0000</td></tr><tr><td>45</td><td>Sunkammurali,  Krishna</td><td>61</td><td>Product XYZPE</td><td>570,0000</td></tr><tr><td>46</td><td>Dressler, Marlies</td><td>59</td><td>Product UKXRI</td><td>2200,0000</td></tr><tr><td>46</td><td>Dressler, Marlies</td><td>26</td><td>Product HLGZA</td><td>1643,4000</td></tr><tr><td>46</td><td>Dressler, Marlies</td><td>32</td><td>Product NUNAW</td><td>1600,0000</td></tr><tr><td>47</td><td>Lupu, Cornel</td><td>72</td><td>Product GEEOO</td><td>2088,0000</td></tr><tr><td>47</td><td>Lupu, Cornel</td><td>18</td><td>Product CKEDC</td><td>1562,5000</td></tr><tr><td>47</td><td>Lupu, Cornel</td><td>49</td><td>Product FPYPN</td><td>1200,0000</td></tr><tr><td>48</td><td>Szymczak, Radosław</td><td>51</td><td>Product APITJ</td><td>1060,0000</td></tr><tr><td>48</td><td>Szymczak, Radosław</td><td>12</td><td>Product OSFNS</td><td>760,0000</td></tr><tr><td>48</td><td>Szymczak, Radosław</td><td>18</td><td>Product CKEDC</td><td>625,0000</td></tr><tr><td>49</td><td>Duerr, Bernard</td><td>72</td><td>Product GEEOO</td><td>1044,0000</td></tr><tr><td>49</td><td>Duerr, Bernard</td><td>22</td><td>Product CPHFY</td><td>840,0000</td></tr><tr><td>49</td><td>Duerr, Bernard</td><td>26</td><td>Product HLGZA</td><td>747,0000</td></tr><tr><td>50</td><td>Mace, Donald</td><td>59</td><td>Product UKXRI</td><td>2200,0000</td></tr><tr><td>50</td><td>Mace, Donald</td><td>27</td><td>Product SMIOH</td><td>1756,0000</td></tr><tr><td>50</td><td>Mace, Donald</td><td>43</td><td>Product ZZZHR</td><td>1380,0000</td></tr><tr><td>51</td><td>Taylor, Maurice</td><td>38</td><td>Product QDOMO</td><td>10329,2000</td></tr><tr><td>51</td><td>Taylor, Maurice</td><td>56</td><td>Product VKCMF</td><td>3040,0000</td></tr><tr><td>51</td><td>Taylor, Maurice</td><td>60</td><td>Product WHBYK</td><td>2380,0000</td></tr><tr><td>52</td><td>Dupont-Roc, Patrice</td><td>62</td><td>Product WUXYK</td><td>1458,8000</td></tr><tr><td>52</td><td>Dupont-Roc, Patrice</td><td>72</td><td>Product GEEOO</td><td>1044,0000</td></tr><tr><td>52</td><td>Dupont-Roc, Patrice</td><td>28</td><td>Product OFBNT</td><td>728,0000</td></tr><tr><td>53</td><td>Mallit, Ken</td><td>59</td><td>Product UKXRI</td><td>220,0000</td></tr><tr><td>53</td><td>Mallit, Ken</td><td>1</td><td>Product HHYDP</td><td>144,0000</td></tr><tr><td>53</td><td>Mallit, Ken</td><td>70</td><td>Product TOONT</td><td>135,0000</td></tr><tr><td>54</td><td>Tiano, Mike</td><td>20</td><td>Product QHFFP</td><td>1215,0000</td></tr><tr><td>54</td><td>Tiano, Mike</td><td>11</td><td>Product QMVUN</td><td>630,0000</td></tr><tr><td>54</td><td>Tiano, Mike</td><td>5</td><td>Product EPEIM</td><td>427,0000</td></tr><tr><td>55</td><td>Egelund-Muller, Anja</td><td>29</td><td>Product VJXYN</td><td>2475,0000</td></tr><tr><td>55</td><td>Egelund-Muller, Anja</td><td>16</td><td>Product PAFRH</td><td>2094,0000</td></tr><tr><td>55</td><td>Egelund-Muller, Anja</td><td>27</td><td>Product SMIOH</td><td>1755,0000</td></tr><tr><td>56</td><td>Marinova, Nadejda</td><td>7</td><td>Product HMLNI</td><td>1650,0000</td></tr><tr><td>56</td><td>Marinova, Nadejda</td><td>62</td><td>Product WUXYK</td><td>1577,0000</td></tr><tr><td>56</td><td>Marinova, Nadejda</td><td>60</td><td>Product WHBYK</td><td>1020,0000</td></tr><tr><td>58</td><td>Fakhouri, Fadi</td><td>51</td><td>Product APITJ</td><td>1060,0000</td></tr><tr><td>58</td><td>Fakhouri, Fadi</td><td>28</td><td>Product OFBNT</td><td>655,2000</td></tr><tr><td>58</td><td>Fakhouri, Fadi</td><td>67</td><td>Product XLXQF</td><td>420,0000</td></tr><tr><td>59</td><td>Meston, Tosh</td><td>38</td><td>Product QDOMO</td><td>10540,0000</td></tr><tr><td>59</td><td>Meston, Tosh</td><td>17</td><td>Product BLCAX</td><td>2730,0000</td></tr><tr><td>59</td><td>Meston, Tosh</td><td>69</td><td>Product COAXA</td><td>2520,0000</td></tr><tr><td>60</td><td>Uppal, Sunil</td><td>29</td><td>Product VJXYN</td><td>1237,9000</td></tr><tr><td>60</td><td>Uppal, Sunil</td><td>8</td><td>Product WVJFP</td><td>1200,0000</td></tr><tr><td>60</td><td>Uppal, Sunil</td><td>56</td><td>Product VKCMF</td><td>851,2000</td></tr><tr><td>61</td><td>Florczyk, Krzysztof</td><td>35</td><td>Product NEVTJ</td><td>1026,0000</td></tr><tr><td>61</td><td>Florczyk, Krzysztof</td><td>6</td><td>Product VAIIV</td><td>1000,0000</td></tr><tr><td>61</td><td>Florczyk, Krzysztof</td><td>26</td><td>Product HLGZA</td><td>934,3800</td></tr><tr><td>62</td><td>Misiec, Anna</td><td>38</td><td>Product QDOMO</td><td>8432,0000</td></tr><tr><td>62</td><td>Misiec, Anna</td><td>60</td><td>Product WHBYK</td><td>2414,0000</td></tr><tr><td>62</td><td>Misiec, Anna</td><td>56</td><td>Product VKCMF</td><td>2280,0000</td></tr><tr><td>63</td><td>Veronesi, Giorgio</td><td>38</td><td>Product QDOMO</td><td>23715,0000</td></tr><tr><td>63</td><td>Veronesi, Giorgio</td><td>60</td><td>Product WHBYK</td><td>7888,0000</td></tr><tr><td>63</td><td>Veronesi, Giorgio</td><td>27</td><td>Product SMIOH</td><td>5268,0000</td></tr><tr><td>64</td><td>Gaffney, Lawrie</td><td>38</td><td>Product QDOMO</td><td>527,0000</td></tr><tr><td>64</td><td>Gaffney, Lawrie</td><td>20</td><td>Product QHFFP</td><td>405,0000</td></tr><tr><td>64</td><td>Gaffney, Lawrie</td><td>57</td><td>Product OVLQI</td><td>390,0000</td></tr><tr><td>65</td><td>Moore, Michael</td><td>38</td><td>Product QDOMO</td><td>16864,0000</td></tr><tr><td>65</td><td>Moore, Michael</td><td>62</td><td>Product WUXYK</td><td>8180,0000</td></tr><tr><td>65</td><td>Moore, Michael</td><td>56</td><td>Product VKCMF</td><td>3936,8000</td></tr><tr><td>66</td><td>Voss, Florian</td><td>72</td><td>Product GEEOO</td><td>1392,0000</td></tr><tr><td>66</td><td>Voss, Florian</td><td>7</td><td>Product HMLNI</td><td>1200,0000</td></tr><tr><td>66</td><td>Voss, Florian</td><td>17</td><td>Product BLCAX</td><td>780,0000</td></tr><tr><td>67</td><td>Garden, Euan</td><td>59</td><td>Product UKXRI</td><td>2310,0000</td></tr><tr><td>67</td><td>Garden, Euan</td><td>60</td><td>Product WHBYK</td><td>2278,0000</td></tr><tr><td>67</td><td>Garden, Euan</td><td>18</td><td>Product CKEDC</td><td>1562,5000</td></tr><tr><td>68</td><td>Myrcha, Jacek</td><td>29</td><td>Product VJXYN</td><td>4456,4400</td></tr><tr><td>68</td><td>Myrcha, Jacek</td><td>53</td><td>Product BKGEA</td><td>2296,0000</td></tr><tr><td>68</td><td>Myrcha, Jacek</td><td>69</td><td>Product COAXA</td><td>1872,0000</td></tr><tr><td>69</td><td>Watters, Jason M.</td><td>30</td><td>Product LYERX</td><td>357,0900</td></tr><tr><td>69</td><td>Watters, Jason M.</td><td>60</td><td>Product WHBYK</td><td>340,0000</td></tr><tr><td>69</td><td>Watters, Jason M.</td><td>53</td><td>Product BKGEA</td><td>262,0000</td></tr><tr><td>70</td><td>Ginters, Kaspars</td><td>38</td><td>Product QDOMO</td><td>2108,0000</td></tr><tr><td>70</td><td>Ginters, Kaspars</td><td>59</td><td>Product UKXRI</td><td>528,0000</td></tr><tr><td>70</td><td>Ginters, Kaspars</td><td>18</td><td>Product CKEDC</td><td>500,0000</td></tr><tr><td>71</td><td>Navarro, Tomás</td><td>29</td><td>Product VJXYN</td><td>14259,8400</td></tr><tr><td>71</td><td>Navarro, Tomás</td><td>17</td><td>Product BLCAX</td><td>7956,0000</td></tr><tr><td>71</td><td>Navarro, Tomás</td><td>59</td><td>Product UKXRI</td><td>7645,0000</td></tr><tr><td>72</td><td>Welcker, Brian</td><td>60</td><td>Product WHBYK</td><td>2176,0000</td></tr><tr><td>72</td><td>Welcker, Brian</td><td>28</td><td>Product OFBNT</td><td>1822,4000</td></tr><tr><td>72</td><td>Welcker, Brian</td><td>51</td><td>Product APITJ</td><td>1293,2000</td></tr><tr><td>73</td><td>Gonzalez, Nuria</td><td>38</td><td>Product QDOMO</td><td>10540,0000</td></tr><tr><td>73</td><td>Gonzalez, Nuria</td><td>51</td><td>Product APITJ</td><td>1590,0000</td></tr><tr><td>73</td><td>Gonzalez, Nuria</td><td>55</td><td>Product YYWRT</td><td>1440,0000</td></tr><tr><td>74</td><td>O’Brien, Dave</td><td>38</td><td>Product QDOMO</td><td>1317,5000</td></tr><tr><td>74</td><td>O’Brien, Dave</td><td>18</td><td>Product CKEDC</td><td>375,0000</td></tr><tr><td>74</td><td>O’Brien, Dave</td><td>69</td><td>Product COAXA</td><td>360,0000</td></tr><tr><td>75</td><td>Wojciechowska, Agnieszka</td><td>38</td><td>Product QDOMO</td><td>4216,0000</td></tr><tr><td>75</td><td>Wojciechowska, Agnieszka</td><td>29</td><td>Product VJXYN</td><td>1980,0000</td></tr><tr><td>75</td><td>Wojciechowska, Agnieszka</td><td>18</td><td>Product CKEDC</td><td>1312,5000</td></tr><tr><td>76</td><td>Gulbis, Katrin</td><td>59</td><td>Product UKXRI</td><td>2750,0000</td></tr><tr><td>76</td><td>Gulbis, Katrin</td><td>20</td><td>Product QHFFP</td><td>2592,0000</td></tr><tr><td>76</td><td>Gulbis, Katrin</td><td>28</td><td>Product OFBNT</td><td>2111,2000</td></tr><tr><td>77</td><td>Osorio, Cristian</td><td>38</td><td>Product QDOMO</td><td>2635,0000</td></tr><tr><td>77</td><td>Osorio, Cristian</td><td>62</td><td>Product WUXYK</td><td>197,0000</td></tr><tr><td>77</td><td>Osorio, Cristian</td><td>34</td><td>Product SWNJY</td><td>140,0000</td></tr><tr><td>78</td><td>Young, Robin</td><td>29</td><td>Product VJXYN</td><td>742,7400</td></tr><tr><td>78</td><td>Young, Robin</td><td>28</td><td>Product OFBNT</td><td>456,0000</td></tr><tr><td>78</td><td>Young, Robin</td><td>44</td><td>Product VJIEO</td><td>194,5000</td></tr><tr><td>79</td><td>Wickham, Jim</td><td>51</td><td>Product APITJ</td><td>1696,0000</td></tr><tr><td>79</td><td>Wickham, Jim</td><td>56</td><td>Product VKCMF</td><td>1064,0000</td></tr><tr><td>79</td><td>Wickham, Jim</td><td>49</td><td>Product FPYPN</td><td>800,0000</td></tr><tr><td>80</td><td>Geschwandtner, Jens</td><td>38</td><td>Product QDOMO</td><td>3952,5000</td></tr><tr><td>80</td><td>Geschwandtner, Jens</td><td>44</td><td>Product VJIEO</td><td>991,9500</td></tr><tr><td>80</td><td>Geschwandtner, Jens</td><td>17</td><td>Product BLCAX</td><td>639,6000</td></tr><tr><td>81</td><td>Nagel, Jean-Philippe</td><td>20</td><td>Product QHFFP</td><td>1296,0000</td></tr><tr><td>81</td><td>Nagel, Jean-Philippe</td><td>60</td><td>Product WHBYK</td><td>1020,0000</td></tr><tr><td>81</td><td>Nagel, Jean-Philippe</td><td>29</td><td>Product VJXYN</td><td>990,3200</td></tr><tr><td>82</td><td>Veninga, Tjeerd</td><td>62</td><td>Product WUXYK</td><td>640,9000</td></tr><tr><td>82</td><td>Veninga, Tjeerd</td><td>77</td><td>Product LUNZZ</td><td>234,0000</td></tr><tr><td>82</td><td>Veninga, Tjeerd</td><td>64</td><td>Product HCQDE</td><td>199,5000</td></tr><tr><td>83</td><td>Fonteneau, Karl</td><td>28</td><td>Product OFBNT</td><td>2736,0000</td></tr><tr><td>83</td><td>Fonteneau, Karl</td><td>29</td><td>Product VJXYN</td><td>1782,0000</td></tr><tr><td>83</td><td>Fonteneau, Karl</td><td>63</td><td>Product ICKNK</td><td>1756,0000</td></tr><tr><td>84</td><td>Tuntisangaroon, Sittichai</td><td>62</td><td>Product WUXYK</td><td>1972,0000</td></tr><tr><td>84</td><td>Tuntisangaroon, Sittichai</td><td>72</td><td>Product GEEOO</td><td>1112,0000</td></tr><tr><td>84</td><td>Tuntisangaroon, Sittichai</td><td>10</td><td>Product YHXGE</td><td>992,0000</td></tr><tr><td>85</td><td>McLin, Nkenge</td><td>72</td><td>Product GEEOO</td><td>368,6000</td></tr><tr><td>85</td><td>McLin, Nkenge</td><td>71</td><td>Product MYMOI</td><td>344,0000</td></tr><tr><td>85</td><td>McLin, Nkenge</td><td>11</td><td>Product QMVUN</td><td>168,0000</td></tr><tr><td>86</td><td>Syamala, Manoj</td><td>32</td><td>Product NUNAW</td><td>2080,0000</td></tr><tr><td>86</td><td>Syamala, Manoj</td><td>69</td><td>Product COAXA</td><td>1296,0000</td></tr><tr><td>86</td><td>Syamala, Manoj</td><td>43</td><td>Product ZZZHR</td><td>883,2000</td></tr><tr><td>87</td><td>Ludwig, Michael</td><td>53</td><td>Product BKGEA</td><td>1965,0000</td></tr><tr><td>87</td><td>Ludwig, Michael</td><td>56</td><td>Product VKCMF</td><td>1900,0000</td></tr><tr><td>87</td><td>Ludwig, Michael</td><td>71</td><td>Product MYMOI</td><td>1720,0000</td></tr><tr><td>88</td><td>Li, Yan</td><td>9</td><td>Product AOZBW</td><td>1552,0000</td></tr><tr><td>88</td><td>Li, Yan</td><td>43</td><td>Product ZZZHR</td><td>920,0000</td></tr><tr><td>88</td><td>Li, Yan</td><td>59</td><td>Product UKXRI</td><td>825,0000</td></tr><tr><td>89</td><td>Smith Jr., Ronaldo</td><td>38</td><td>Product QDOMO</td><td>6587,5000</td></tr><tr><td>89</td><td>Smith Jr., Ronaldo</td><td>17</td><td>Product BLCAX</td><td>2418,0000</td></tr><tr><td>89</td><td>Smith Jr., Ronaldo</td><td>8</td><td>Product WVJFP</td><td>2240,0000</td></tr><tr><td>90</td><td>Larsson, Katarina</td><td>59</td><td>Product UKXRI</td><td>550,0000</td></tr><tr><td>90</td><td>Larsson, Katarina</td><td>8</td><td>Product WVJFP</td><td>400,0000</td></tr><tr><td>90</td><td>Larsson, Katarina</td><td>43</td><td>Product ZZZHR</td><td>276,0000</td></tr><tr><td>91</td><td>Conn, Steve</td><td>61</td><td>Product XYZPE</td><td>627,0000</td></tr><tr><td>91</td><td>Conn, Steve</td><td>62</td><td>Product WUXYK</td><td>591,6000</td></tr><tr><td>91</td><td>Conn, Steve</td><td>60</td><td>Product WHBYK</td><td>510,0000</td></tr></table>"
                    }
                }
            ],
            "execution_count": 20
        }
    ]
}